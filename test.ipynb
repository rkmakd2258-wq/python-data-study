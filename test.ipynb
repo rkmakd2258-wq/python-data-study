{
 "cells": [
  {
   "cell_type": "markdown",
   "id": "ba63221d-a059-4047-b353-8f9f9ad48c58",
   "metadata": {},
   "source": []
  },
  {
   "cell_type": "markdown",
   "id": "73bafa03-b429-4cad-ad2c-f45a650ee284",
   "metadata": {},
   "source": [
    "## 제목\n",
    "### 제목2\n",
    "마크다운이란? html과 비슷하게 텍스트를 작서하는 언어\n",
    "#*기호로 제목이나 목록을 작성할 수 있다"
   ]
  },
  {
   "cell_type": "code",
   "execution_count": 1,
   "id": "fe64f08b-64c5-41ef-9b3d-3d245d6c5a26",
   "metadata": {},
   "outputs": [
    {
     "data": {
      "text/plain": [
       "5"
      ]
     },
     "execution_count": 1,
     "metadata": {},
     "output_type": "execute_result"
    }
   ],
   "source": [
    "# 실행:shift+enter\n",
    "# 셀 추가 : b\n",
    "a=5\n",
    "a"
   ]
  },
  {
   "cell_type": "code",
   "execution_count": 3,
   "id": "387a25a2-dee7-4c10-b00a-ecafa83c128b",
   "metadata": {},
   "outputs": [],
   "source": [
    "var1 = 10\n",
    "var2 = 20"
   ]
  },
  {
   "cell_type": "code",
   "execution_count": 4,
   "id": "d487bbe8-059d-4742-8783-1b867a92462a",
   "metadata": {},
   "outputs": [
    {
     "data": {
      "text/plain": [
       "10"
      ]
     },
     "execution_count": 4,
     "metadata": {},
     "output_type": "execute_result"
    }
   ],
   "source": [
    "var1"
   ]
  },
  {
   "cell_type": "code",
   "execution_count": 5,
   "id": "83716000-59ce-454b-a317-e2c355f8f4f0",
   "metadata": {},
   "outputs": [
    {
     "data": {
      "text/plain": [
       "array([0., 0., 0., 0., 0., 0., 0., 0., 0., 0.])"
      ]
     },
     "execution_count": 5,
     "metadata": {},
     "output_type": "execute_result"
    }
   ],
   "source": [
    "# zeros : 배열을 생성하고 값을 0으로 초기화\n",
    "# 10개 크기의 배열 생성\n",
    "import numpy as np\n",
    "np.zeros(10)"
   ]
  },
  {
   "cell_type": "code",
   "execution_count": 6,
   "id": "6faadb48-9c57-4392-ae3a-3011da3db66c",
   "metadata": {},
   "outputs": [
    {
     "name": "stdout",
     "output_type": "stream",
     "text": [
      "int64\n",
      "1\n",
      "(3,)\n"
     ]
    }
   ],
   "source": [
    "# 3개 크기의 1차원 정수 배열 생성\n",
    "# 파이썬의 리스트와 달리 넘파이 배열은 모든 원소의 자료형이 같다\n",
    "a = np.array([1,2,3])\n",
    "# 배열의 정보를 확인\n",
    "print(a.dtype) #자료형\n",
    "print(a.ndim) #배열의 차원\n",
    "print(a.shape) #행열 크기"
   ]
  },
  {
   "cell_type": "code",
   "execution_count": 7,
   "id": "0ddbbb13-6d09-48ac-9bca-a4d1ee7c56be",
   "metadata": {},
   "outputs": [
    {
     "name": "stdout",
     "output_type": "stream",
     "text": [
      "int64\n",
      "2\n",
      "(2, 3)\n"
     ]
    }
   ],
   "source": [
    "# 2행 3열의 2차원 배열 생성\n",
    "b = np.array([[1,2,3],[4,5,6]])\n",
    "print(b.dtype)\n",
    "print(b.ndim)\n",
    "print(b.shape)"
   ]
  },
  {
   "cell_type": "code",
   "execution_count": 10,
   "id": "c264207d-eb09-416b-a0e0-746b0dafc3b2",
   "metadata": {},
   "outputs": [
    {
     "data": {
      "text/plain": [
       "dtype('int32')"
      ]
     },
     "execution_count": 10,
     "metadata": {},
     "output_type": "execute_result"
    }
   ],
   "source": [
    "# 실수형 1차원 배열 생성\n",
    "arr = np.array([1.1, 2.1,3.1])\n",
    "# 자료형 확인\n",
    "arr.dtype\n",
    "# 배열의 형변환\n",
    "# float -> int\n",
    "arr2 = arr.astype(np.int32)\n",
    "arr2\n",
    "arr2.dtype"
   ]
  },
  {
   "cell_type": "code",
   "execution_count": 11,
   "id": "92b58354-3946-474d-a9dd-a763ba89636b",
   "metadata": {},
   "outputs": [
    {
     "name": "stdout",
     "output_type": "stream",
     "text": [
      "4\n",
      "5\n",
      "6\n"
     ]
    }
   ],
   "source": [
    "# 파이썬의 리스트 생성\n",
    "lis = [1,2,3]\n",
    "# 파이썬의 각 원소에 3씩 더하기\n",
    "# 리스트의 원소에 하나씩 계산하려면 for 반복문을 사용해야한다...\n",
    "for i in lis:\n",
    "    print(i+3)"
   ]
  },
  {
   "cell_type": "code",
   "execution_count": 12,
   "id": "01d4da00-1211-4836-ab3e-7d359748a0f4",
   "metadata": {},
   "outputs": [
    {
     "data": {
      "text/plain": [
       "array([4, 5, 6])"
      ]
     },
     "execution_count": 12,
     "metadata": {},
     "output_type": "execute_result"
    }
   ],
   "source": [
    "# 넘파이 배열 생성\n",
    "# 넘파이 배열은 for문 없이 각 원소에 값을 계산할 수 있다!\n",
    "# 넘파이 배열을 자동으로 각 원소에 반복 수행이 된다\n",
    "a = np.array([1,2,3])\n",
    "# 각 원소에 3씩 더하기\n",
    "a+3"
   ]
  },
  {
   "cell_type": "code",
   "execution_count": 13,
   "id": "96ecae9c-4945-4a72-8676-b3edf154c736",
   "metadata": {},
   "outputs": [
    {
     "data": {
      "text/plain": [
       "array([False, False, False])"
      ]
     },
     "execution_count": 13,
     "metadata": {},
     "output_type": "execute_result"
    }
   ],
   "source": [
    "a = np.array([1,2,3])\n",
    "b = np.array([4,5,6])\n",
    "\n",
    "# 배열 두 개를 비교\n",
    "a > b"
   ]
  },
  {
   "cell_type": "markdown",
   "id": "2dc3c245-3317-46e0-ad7d-60fc2bfa010d",
   "metadata": {},
   "source": [
    "인덱스와 슬라이스"
   ]
  },
  {
   "cell_type": "code",
   "execution_count": 52,
   "id": "674b998c-a88c-41fa-b52f-3aefddc36293",
   "metadata": {},
   "outputs": [
    {
     "name": "stdout",
     "output_type": "stream",
     "text": [
      "[0 1 2 3 4 5 6 7 8 9]\n"
     ]
    },
    {
     "data": {
      "text/plain": [
       "array([ 0, 99,  2, 88, 88, 88,  6,  7,  8,  9])"
      ]
     },
     "execution_count": 52,
     "metadata": {},
     "output_type": "execute_result"
    }
   ],
   "source": [
    "# 0~9 숫자 만들고 1차원 배열 생성\n",
    "a = np.arange(10)\n",
    "print(a)\n",
    "# 배열의 원소 하나 꺼내기\n",
    "a[1]\n",
    "# 범위로 값 꺼내기 (슬라이스)\n",
    "a[3:6]\n",
    "# 원소 값 변경하기\n",
    "# 두번째 원소의 값 변경하기\n",
    "a[1] = 99\n",
    "a\n",
    "# 특정 범위에 있는 값을 모두 변경하기\n",
    "# 3,4,5 번째 데이터 변경\n",
    "a[3:6] = 88\n",
    "a"
   ]
  },
  {
   "cell_type": "code",
   "execution_count": 23,
   "id": "4afb138f-beb7-4b37-84ae-ebd6d5b651b4",
   "metadata": {},
   "outputs": [
    {
     "data": {
      "text/plain": [
       "array([ 0, 99,  2, 88, 88, 88,  6,  7,  8,  9])"
      ]
     },
     "execution_count": 23,
     "metadata": {},
     "output_type": "execute_result"
    }
   ],
   "source": [
    "# 배열 전체 선택\n",
    "# a를 출력하는 것과 같다\n",
    "a[:]"
   ]
  },
  {
   "cell_type": "code",
   "execution_count": 24,
   "id": "447a3120-0e13-40ef-b78f-6dcb32bdbc2d",
   "metadata": {},
   "outputs": [
    {
     "data": {
      "text/plain": [
       "array([999, 999, 999, 999, 999, 999, 999, 999, 999, 999])"
      ]
     },
     "execution_count": 24,
     "metadata": {},
     "output_type": "execute_result"
    }
   ],
   "source": [
    "# 슬라이스로 배열 전체를 선택하고, 값 변경\n",
    "a[:] = 999\n",
    "a"
   ]
  },
  {
   "cell_type": "markdown",
   "id": "55ec23da-5b65-44a3-81bd-30191a9d9030",
   "metadata": {},
   "source": [
    "<연습문제>"
   ]
  },
  {
   "cell_type": "code",
   "execution_count": 41,
   "id": "a2dd1a1f-45f6-4e61-b44e-5bcab09f1bd2",
   "metadata": {},
   "outputs": [
    {
     "name": "stdout",
     "output_type": "stream",
     "text": [
      "10\n",
      "30\n",
      "50\n"
     ]
    },
    {
     "data": {
      "text/plain": [
       "array([ 10, 200,  30, 999,  50])"
      ]
     },
     "execution_count": 41,
     "metadata": {},
     "output_type": "execute_result"
    }
   ],
   "source": [
    "# 배열의 첫 번째 값을 꺼내서 출력\n",
    "arr = np.array([10,20,30,40,50])\n",
    "print(arr[0])\n",
    "\n",
    "# 배열의 세 번째 값을 꺼내서 출력\n",
    "print(arr[2])\n",
    "\n",
    "# 배열의 마지막 값을 꺼내서 출력\n",
    "print(arr[4])\n",
    "\n",
    "# 배열의 두 번째 값을 200으로 바꾸세요\n",
    "arr[1] = 200\n",
    "arr\n",
    "\n",
    "# 배열의 네 번째 값을 999로 바꾸세요\n",
    "arr[3] = 999\n",
    "arr"
   ]
  },
  {
   "cell_type": "code",
   "execution_count": 48,
   "id": "a783b7df-5b9f-4d1f-89d4-eb24d089d27b",
   "metadata": {},
   "outputs": [
    {
     "name": "stdout",
     "output_type": "stream",
     "text": [
      "나\n",
      "라\n",
      "마\n"
     ]
    },
    {
     "data": {
      "text/plain": [
       "array(['하', '나', '호', '라', '마'], dtype='<U1')"
      ]
     },
     "execution_count": 48,
     "metadata": {},
     "output_type": "execute_result"
    }
   ],
   "source": [
    "arr = np.array([\"가\",\"나\", \"다\",\"라\",\"마\"])\n",
    "\n",
    "# 배열의 두 번째 값을 꺼내서 출력\n",
    "print(arr[1])\n",
    "\n",
    "# 배열의 네 번째 값을 꺼내서 출력 \n",
    "print(arr[3])\n",
    "\n",
    "# 배열의 마지막 값을 꺼내서 출력\n",
    "print(arr[-1])\n",
    "\n",
    "# 배열의 첫 번째 값을 '하'로 바꾸세요\n",
    "arr[0] = '하'\n",
    "arr\n",
    "\n",
    "# 배열의 세 번째 값을 '호'로 바꾸세요\n",
    "arr[2] = '호'\n",
    "arr"
   ]
  },
  {
   "cell_type": "code",
   "execution_count": 57,
   "id": "06e2db6e-600d-4bd2-aca0-07b310e61cfd",
   "metadata": {},
   "outputs": [
    {
     "data": {
      "text/plain": [
       "array([20, 30, 40, 50])"
      ]
     },
     "execution_count": 57,
     "metadata": {},
     "output_type": "execute_result"
    }
   ],
   "source": [
    "arr = np.array([10,20,30,40,50,60,70])\n",
    "\n",
    "# 배열의 처음 3개 값을 꺼내서 출력\n",
    "arr[0:3]\n",
    "\n",
    "# 배열의 네번째~끝 값을 꺼내서 출력\n",
    "arr[3:]\n",
    "\n",
    "# 배열의 두번째~다섯번째 값을 꺼내서 출력\n",
    "arr[1:5]"
   ]
  },
  {
   "cell_type": "code",
   "execution_count": 61,
   "id": "47372b58-d6f0-4e22-accd-0b9727de20bf",
   "metadata": {},
   "outputs": [
    {
     "data": {
      "text/plain": [
       "array(['b', 'c', 'd', 'e'], dtype='<U1')"
      ]
     },
     "execution_count": 61,
     "metadata": {},
     "output_type": "execute_result"
    }
   ],
   "source": [
    "arr = np.array([\"a\",\"b\", \"c\",\"d\",\"e\",\"f\",\"g\"])\n",
    "\n",
    "# 배열의 처음 3개 값을 꺼내서 출력\n",
    "arr[0:3]\n",
    "\n",
    "# 배열의 네번째~끝 값을 꺼내서 출력\n",
    "arr[3:]\n",
    "\n",
    "# 배열의 두번째~다섯번째 값을 꺼내서 출력\n",
    "arr[1:5]\n"
   ]
  },
  {
   "cell_type": "markdown",
   "id": "30db1f55-3775-40bf-a025-b83d133bd107",
   "metadata": {},
   "source": [
    "2차원 배열의 인덱싱"
   ]
  },
  {
   "cell_type": "code",
   "execution_count": 62,
   "id": "2ec77afd-8a56-46b5-b459-a3d720696b90",
   "metadata": {},
   "outputs": [
    {
     "name": "stdout",
     "output_type": "stream",
     "text": [
      "[[1 2 3]\n",
      " [4 5 6]\n",
      " [7 8 9]]\n"
     ]
    }
   ],
   "source": [
    "arr = np.array([[1,2,3],[4,5,6],[7,8,9]])\n",
    "print(arr)"
   ]
  },
  {
   "cell_type": "code",
   "execution_count": 67,
   "id": "b98de756-8dc3-41df-a768-5bebdc9f378e",
   "metadata": {},
   "outputs": [
    {
     "data": {
      "text/plain": [
       "array([1, 2, 3])"
      ]
     },
     "execution_count": 67,
     "metadata": {},
     "output_type": "execute_result"
    }
   ],
   "source": [
    "# 2차원 배열의 인덱스\n",
    "# 행(인덱스)\n",
    "# 열(컬럼)\n",
    "# 첫번째 행 꺼내기\n",
    "arr[0]"
   ]
  },
  {
   "cell_type": "code",
   "execution_count": 69,
   "id": "40dc9bb6-a082-401e-a956-46356030c4c1",
   "metadata": {},
   "outputs": [
    {
     "data": {
      "text/plain": [
       "np.int64(5)"
      ]
     },
     "execution_count": 69,
     "metadata": {},
     "output_type": "execute_result"
    }
   ],
   "source": [
    "# 1 꺼내기\n",
    "arr[0][0]\n",
    "# 9 꺼내기\n",
    "arr[2][2]\n",
    "# 5 꺼내기\n",
    "arr[1][1]\n",
    "arr[1,1]"
   ]
  },
  {
   "cell_type": "code",
   "execution_count": 72,
   "id": "d3267d88-1211-4caa-bf61-26edd4295e4a",
   "metadata": {},
   "outputs": [
    {
     "data": {
      "text/plain": [
       "array([[0, 2, 3],\n",
       "       [4, 5, 6],\n",
       "       [7, 8, 9]])"
      ]
     },
     "execution_count": 72,
     "metadata": {},
     "output_type": "execute_result"
    }
   ],
   "source": [
    "# 배열 원소의 값 바꾸기\n",
    "# 0 -> 1\n",
    "arr[0][0] = 0\n",
    "arr"
   ]
  },
  {
   "cell_type": "markdown",
   "id": "d8fe0486-5f08-4943-a736-cdd930897e74",
   "metadata": {},
   "source": [
    "2차원 배열 슬라이스"
   ]
  },
  {
   "cell_type": "code",
   "execution_count": 73,
   "id": "cec0267b-16c4-4ed3-96e7-14d21749175a",
   "metadata": {},
   "outputs": [
    {
     "data": {
      "text/plain": [
       "array([[1, 2, 3],\n",
       "       [4, 5, 6],\n",
       "       [7, 8, 9]])"
      ]
     },
     "execution_count": 73,
     "metadata": {},
     "output_type": "execute_result"
    }
   ],
   "source": [
    "arr = np.array([[1,2,3],[4,5,6],[7,8,9]])\n",
    "arr"
   ]
  },
  {
   "cell_type": "code",
   "execution_count": 74,
   "id": "f7cba9b0-3495-4299-ac59-b7b94dc642be",
   "metadata": {},
   "outputs": [
    {
     "data": {
      "text/plain": [
       "array([[1, 2, 3],\n",
       "       [4, 5, 6]])"
      ]
     },
     "execution_count": 74,
     "metadata": {},
     "output_type": "execute_result"
    }
   ],
   "source": [
    "# 헹을 기준으로 슬라이스\n",
    "# 처음부터 두 번째 행까지\n",
    "arr[:2]"
   ]
  },
  {
   "cell_type": "code",
   "execution_count": 75,
   "id": "a5af201b-2f4f-4783-98c5-211d2a69705e",
   "metadata": {},
   "outputs": [
    {
     "data": {
      "text/plain": [
       "array([[5, 6],\n",
       "       [8, 9]])"
      ]
     },
     "execution_count": 75,
     "metadata": {},
     "output_type": "execute_result"
    }
   ],
   "source": [
    "# 행:1번 2번\n",
    "# 열:1번 2번\n",
    "arr[1:3, 1:3]"
   ]
  },
  {
   "cell_type": "code",
   "execution_count": 78,
   "id": "647b5849-36bb-45bf-802d-8e8a49130348",
   "metadata": {},
   "outputs": [
    {
     "data": {
      "text/plain": [
       "array([[1, 2],\n",
       "       [4, 5]])"
      ]
     },
     "execution_count": 78,
     "metadata": {},
     "output_type": "execute_result"
    }
   ],
   "source": [
    "# 행:0번 1번\n",
    "# 열:0번 1번\n",
    "arr[ :2, :2 ]"
   ]
  },
  {
   "cell_type": "code",
   "execution_count": null,
   "id": "71dbaa63-adf8-4f98-beaf-ca42c85325cc",
   "metadata": {},
   "outputs": [],
   "source": [
    "# 행: 1번 행만 선택\n",
    "# 열:0 1번\n",
    "arr[1,0:2]"
   ]
  },
  {
   "cell_type": "markdown",
   "id": "e40067b1-4f5a-4caf-a4e8-641a6e67b579",
   "metadata": {},
   "source": [
    "<연습문제>"
   ]
  },
  {
   "cell_type": "code",
   "execution_count": 104,
   "id": "f79f2735-8882-4663-90a3-2273a5d63c3a",
   "metadata": {},
   "outputs": [
    {
     "data": {
      "text/plain": [
       "array([[ 10,  20, 300],\n",
       "       [ 40,  50,  60],\n",
       "       [ 70,  80,  90]])"
      ]
     },
     "execution_count": 104,
     "metadata": {},
     "output_type": "execute_result"
    }
   ],
   "source": [
    "arr = np.array([[10,20,30], \n",
    "                [40,50,60],\n",
    "                [70,80,90]])\n",
    "\n",
    "# 첫 번째 행의 두 번째 값을 꺼내서 출력\n",
    "arr[0,1]\n",
    "\n",
    "# 세 번째 행의 첫 번째 값을 꺼내서 출력\n",
    "arr[2,0]\n",
    "\n",
    "# 두 번째 행 전체를 꺼내서 출력\n",
    "arr[:,1]\n",
    "\n",
    "# 두 번째 열 전체를 꺼내서 출력\n",
    "arr[0,0:2]\n",
    "\n",
    "# 첫 번째 행의 세 번째 값을 300으로 바꾸시오\n",
    "arr[0,2] = 300\n",
    "arr"
   ]
  },
  {
   "cell_type": "code",
   "execution_count": 113,
   "id": "a5947e42-882a-4b53-bd04-74edc4dee97d",
   "metadata": {},
   "outputs": [
    {
     "data": {
      "text/plain": [
       "array([[  1,   2,   3, 100],\n",
       "       [  5,   6,   7,   8],\n",
       "       [  9,  10,  11,  12],\n",
       "       [ 13,  14,  15,  16]])"
      ]
     },
     "execution_count": 113,
     "metadata": {},
     "output_type": "execute_result"
    }
   ],
   "source": [
    "arr = np.array([[1,2,3,4], \n",
    "                [5,6,7,8],\n",
    "                [9,10,11,12],\n",
    "                [13,14,15,16]])\n",
    "\n",
    "# 두 번째 행의 세 번째 값을 꺼내서 출력\n",
    "arr[1,2]\n",
    "\n",
    "# 네 번째 행의 첫 번째 값을 꺼내서 출력\n",
    "arr[3,0]\n",
    "\n",
    "# 세 번째 행 전체를 꺼내서 출력\n",
    "arr[2,:]\n",
    "\n",
    "# 네 번째 열 전체를 꺼내서 출력\n",
    "arr[:,3]\n",
    "\n",
    "# 첫 번째 행의 네 번째 값을 100으로 바꾸시오\n",
    "arr[0,3] = 100\n",
    "arr"
   ]
  },
  {
   "cell_type": "code",
   "execution_count": 124,
   "id": "a82d4f2a-4616-497c-aa02-88e394b340e4",
   "metadata": {},
   "outputs": [
    {
     "data": {
      "text/plain": [
       "array([[20, 30],\n",
       "       [50, 60],\n",
       "       [80, 90]])"
      ]
     },
     "execution_count": 124,
     "metadata": {},
     "output_type": "execute_result"
    }
   ],
   "source": [
    "arr = np.array([[10,20,30], \n",
    "                [40,50,60],\n",
    "                [70,80,90]])\n",
    "\n",
    "# 첫 번째 행의 앞 2개 숫자를 꺼내서 출력하세요\n",
    "arr[0,0:2]\n",
    "\n",
    "# 두 번째 행부터 세 번째 행까지 전체를 꺼내서 출력\n",
    "arr[1:3,:]\n",
    "\n",
    "# 모든 행에서 두 번째와 세 번째 열만 꺼내서 출력\n",
    "arr[:,1:3]"
   ]
  },
  {
   "cell_type": "markdown",
   "id": "b2bb5a6d-bb2b-4e6f-9048-46a18113906b",
   "metadata": {},
   "source": [
    "불리인 인덱스  \n",
    "인덱스란? 데이터의 위치"
   ]
  },
  {
   "cell_type": "code",
   "execution_count": 130,
   "id": "6164853a-a08f-4cc3-862f-d9156ebbc0ce",
   "metadata": {},
   "outputs": [],
   "source": [
    "import numpy as np\n",
    "\n",
    "# 학생 배열 생성\n",
    "students = np.array(['철수','영희','인수','철수','철수'])\n",
    "\n",
    "# 도서 정보 (2차원 배열)\n",
    "books = np.array([\n",
    "    ['수학의 정석', 7], \n",
    "    ['해리포터', 10], \n",
    "    ['피아니스트', 5], \n",
    "    ['한국사', 5], \n",
    "    ['데미안', 12]\n",
    "])"
   ]
  },
  {
   "cell_type": "code",
   "execution_count": 131,
   "id": "3419c30e-a205-4f0a-95b3-cdb34ee75007",
   "metadata": {},
   "outputs": [
    {
     "data": {
      "text/plain": [
       "array([ True, False, False,  True,  True])"
      ]
     },
     "execution_count": 131,
     "metadata": {},
     "output_type": "execute_result"
    }
   ],
   "source": [
    "# 여기서 철수의 대출 이력만 조회하기\n",
    "# 배열 == '비교값'\n",
    "# 배열 전체에 철수를 비교\n",
    "# 총 5번 비교하고 bool 배열 반환\n",
    "arr = (students == '철수')\n",
    "arr"
   ]
  },
  {
   "cell_type": "code",
   "execution_count": 133,
   "id": "e379f11f-e649-47f5-8ca6-1bcf9adf6c4d",
   "metadata": {},
   "outputs": [
    {
     "data": {
      "text/plain": [
       "array([['수학의 정석', '7'],\n",
       "       ['한국사', '5'],\n",
       "       ['데미안', '12']], dtype='<U21')"
      ]
     },
     "execution_count": 133,
     "metadata": {},
     "output_type": "execute_result"
    }
   ],
   "source": [
    "# books 배열의 인덱스에 bppl 배열 넣기\n",
    "books[students == '철수']"
   ]
  },
  {
   "cell_type": "code",
   "execution_count": 135,
   "id": "8407bb75-8a72-4979-9722-7448ef65f160",
   "metadata": {},
   "outputs": [
    {
     "name": "stdout",
     "output_type": "stream",
     "text": [
      "[False  True  True False False]\n"
     ]
    },
    {
     "data": {
      "text/plain": [
       "array([['해리포터', '10'],\n",
       "       ['피아니스트', '5']], dtype='<U21')"
      ]
     },
     "execution_count": 135,
     "metadata": {},
     "output_type": "execute_result"
    }
   ],
   "source": [
    "print(students != '철수')\n",
    "# 철수가 아닌 대출 이력 찾기\n",
    "# true에 해당하는 원소만 반환\n",
    "books[students != '철수']"
   ]
  },
  {
   "cell_type": "code",
   "execution_count": 138,
   "id": "e92b5364-6f07-4ebd-b344-881eaecf4510",
   "metadata": {},
   "outputs": [
    {
     "data": {
      "text/plain": [
       "array([['자바의 정석', '7'],\n",
       "       ['해리포터', '10'],\n",
       "       ['피아니스트', '5'],\n",
       "       ['한국사', '5'],\n",
       "       ['데미안', '12']], dtype='<U21')"
      ]
     },
     "execution_count": 138,
     "metadata": {},
     "output_type": "execute_result"
    }
   ],
   "source": [
    "# '수학의 정석'을 찾아서 제목을 '자바의 정석'으로 바꾸기\n",
    "books == '수학의 정석'\n",
    "# bool 배열로 원소를 찾고 값 교체\n",
    "books[books == '수학의 정석'] = '자바의 정석'\n",
    "books"
   ]
  },
  {
   "cell_type": "code",
   "execution_count": 142,
   "id": "5d174db2-aacc-486b-8553-064804ed442e",
   "metadata": {},
   "outputs": [
    {
     "data": {
      "text/plain": [
       "array([['자바의 정석', '7'],\n",
       "       ['7', '7'],\n",
       "       ['7', '7'],\n",
       "       ['한국사', '5'],\n",
       "       ['데미안', '12']], dtype='<U21')"
      ]
     },
     "execution_count": 142,
     "metadata": {},
     "output_type": "execute_result"
    }
   ],
   "source": [
    "# 대출 이력 중에서 철수가 아닌 항목을 찾고 \n",
    "# 행 전체를 7로 바꾸기\n",
    "students != '철수'\n",
    "books[students != '철수'] = 7\n",
    "books"
   ]
  },
  {
   "cell_type": "markdown",
   "id": "9181d91b-033c-4691-9e38-69f39fb459a8",
   "metadata": {},
   "source": [
    "<연습문제>"
   ]
  },
  {
   "cell_type": "code",
   "execution_count": 152,
   "id": "cfaec55e-f823-462c-ab95-62afbd2f9c94",
   "metadata": {},
   "outputs": [
    {
     "name": "stdout",
     "output_type": "stream",
     "text": [
      "[False False False  True  True  True  True]\n",
      "[40 50 60 70]\n"
     ]
    },
    {
     "data": {
      "text/plain": [
       "array([ 10,  20,  30,  40,  50, 999, 999])"
      ]
     },
     "execution_count": 152,
     "metadata": {},
     "output_type": "execute_result"
    }
   ],
   "source": [
    "arr = np.array([10,20,30,40,50,60,70])\n",
    "\n",
    "# 배열에서 30보다 큰 값만꺼내서 출력하세요\n",
    "# 조건 만족 -> 불리언 인덱스\n",
    "print(arr>30)\n",
    "print(arr[arr>30])\n",
    "\n",
    "# 배열에서 짝수 값만 꺼내소 출럭\n",
    "arr[arr%2 == 0]\n",
    "\n",
    "# 배열에서 50보단 큰 값을 모두 999로 바꿔\n",
    "arr[arr>50] = 999\n",
    "arr"
   ]
  },
  {
   "cell_type": "code",
   "execution_count": 159,
   "id": "5ea0d461-7db5-47a7-937f-52ea4746a528",
   "metadata": {},
   "outputs": [
    {
     "data": {
      "text/plain": [
       "array([250, 320, 280, 400, 200])"
      ]
     },
     "execution_count": 159,
     "metadata": {},
     "output_type": "execute_result"
    }
   ],
   "source": [
    "# 직원 이름 배열\n",
    "employees = np.array(['짱구','철수','유리','맹구','훈이'])\n",
    "\n",
    "# 직원별 월급 (만원 단위)\n",
    "salaries = np.array([250,320,280,400,150])\n",
    "\n",
    "# 직원 이름과 월급은 대응\n",
    "\n",
    "# '맹구'의 급여를 조회하세요.\n",
    "salaries[employees == '맹구']\n",
    "# 급여가 300만원 이상인 직원들의 이름을 출력하세요.\n",
    "employees[salaries>=300]\n",
    "# 급여가 200만원 미만인 직원들의 급여를 모두 200으로 올리세요\n",
    "salaries[salaries<200] = 200\n",
    "salaries\n"
   ]
  },
  {
   "cell_type": "markdown",
   "id": "857e8579-3ba9-4315-ad19-65d6412d7fc1",
   "metadata": {},
   "source": [
    "3.2 배열의 모양 바꾸기"
   ]
  },
  {
   "cell_type": "code",
   "execution_count": 161,
   "id": "3fe4ce6c-f232-444d-b340-f6a4e0f3cd0f",
   "metadata": {},
   "outputs": [
    {
     "name": "stdout",
     "output_type": "stream",
     "text": [
      "[1 2 3 4 5 6 7 8 9]\n"
     ]
    },
    {
     "data": {
      "text/plain": [
       "array([[1, 2, 3],\n",
       "       [4, 5, 6],\n",
       "       [7, 8, 9]])"
      ]
     },
     "execution_count": 161,
     "metadata": {},
     "output_type": "execute_result"
    }
   ],
   "source": [
    "# 1~9 숫자가 담긴 1차원 배열에 생성\n",
    "# reshape : 배열의 형태를 바꾸는 함수\n",
    "# 1차원 -> 2차원\n",
    "# 3행 3열 크기의 배열로 변환\n",
    "print(np.arange(1,10))\n",
    "arr = np.arange(1,10).reshape(3,3)\n",
    "arr\n",
    "# "
   ]
  },
  {
   "cell_type": "code",
   "execution_count": 162,
   "id": "706689e7-4c3a-4c2c-a48e-01a9091fdddb",
   "metadata": {},
   "outputs": [
    {
     "name": "stdout",
     "output_type": "stream",
     "text": [
      "[ 1  2  3  4  5  6  7  8  9 10 11 12 13 14 15 16]\n"
     ]
    },
    {
     "data": {
      "text/plain": [
       "array([[ 1,  2,  3,  4],\n",
       "       [ 5,  6,  7,  8],\n",
       "       [ 9, 10, 11, 12],\n",
       "       [13, 14, 15, 16]])"
      ]
     },
     "execution_count": 162,
     "metadata": {},
     "output_type": "execute_result"
    }
   ],
   "source": [
    "# 1~16 숫자가 담긴 1차원 배열\n",
    "# 1차원 -> 2차원\n",
    "print(np.arange(1,17))\n",
    "a = np.arange(1,17).reshape(4,4)\n",
    "a"
   ]
  },
  {
   "cell_type": "code",
   "execution_count": 164,
   "id": "bcc78667-0d48-4c3c-96ba-eca3abddd4f6",
   "metadata": {},
   "outputs": [
    {
     "name": "stdout",
     "output_type": "stream",
     "text": [
      "[ 1  2  3  4  5  6  7  8  9 10 11 12]\n"
     ]
    },
    {
     "data": {
      "text/plain": [
       "array([[ 1,  2,  3,  4],\n",
       "       [ 5,  6,  7,  8],\n",
       "       [ 9, 10, 11, 12]])"
      ]
     },
     "execution_count": 164,
     "metadata": {},
     "output_type": "execute_result"
    }
   ],
   "source": [
    "#1~12 1차원 배열\n",
    "# 이 배열을 3행 4열 배열로 변환\n",
    "print(np.arange(1,13))\n",
    "a = np.arange(1,13).reshape(3,4)\n",
    "a"
   ]
  },
  {
   "cell_type": "code",
   "execution_count": 172,
   "id": "9b439c89-2cfa-42ce-b4d1-755d61baeda8",
   "metadata": {},
   "outputs": [
    {
     "name": "stdout",
     "output_type": "stream",
     "text": [
      "[ 0  1  2  3  4  5  6  7  8  9 10 11]\n",
      "[[ 0  1  2  3]\n",
      " [ 4  5  6  7]\n",
      " [ 8  9 10 11]]\n",
      "[ 1  2  3  4  5  6  7  8  9 10 11 12 13 14 15 16]\n",
      "[[ 1  2  3  4]\n",
      " [ 5  6  7  8]\n",
      " [ 9 10 11 12]\n",
      " [13 14 15 16]]\n",
      "[ 1  2  3  4  5  6  7  8  9 10 11 12 13 14 15 16 17 18 19 20]\n",
      "[[ 1  2  3  4]\n",
      " [ 5  6  7  8]\n",
      " [ 9 10 11 12]\n",
      " [13 14 15 16]\n",
      " [17 18 19 20]]\n",
      "[10 11 12 13 14 15 16 17 18 19 20 21 22 23 24 25]\n",
      "[[10 11 12 13]\n",
      " [14 15 16 17]\n",
      " [18 19 20 21]\n",
      " [22 23 24 25]]\n"
     ]
    }
   ],
   "source": [
    "# 0부터 11까지 숫자를 생성한 뒤, 3행 4열 배열로 바꾸세요.\n",
    "print(np.arange(0,12))\n",
    "a = np.arange(0,12).reshape(3,4)\n",
    "print(a)\n",
    "\n",
    "# 1부터 16까지 숫자를 생성한 뒤, 4행 4열 배열로 바꾸세요.\n",
    "print(np.arange(1,17))\n",
    "a = np.arange(1,17).reshape(4,4)\n",
    "print(a)\n",
    "\n",
    "# 1부터 20까지 숫자를 생성한 뒤, 5행 4열 배열로 바꾸세요.\n",
    "print(np.arange(1,21))\n",
    "a = np.arange(1,21).reshape(5,4)\n",
    "print(a)\n",
    "\n",
    "# 10부터 25까지 숫자를 생성한 뒤, 4행 4열 배열로 바꾸세요.\n",
    "print(np.arange(10,26))\n",
    "a = np.arange(10,26).reshape(4,4)\n",
    "print(a)"
   ]
  },
  {
   "cell_type": "markdown",
   "id": "89686f8f-dfde-4ac6-8200-ee637026bae8",
   "metadata": {},
   "source": [
    "3.3 난수를 생성하는 방법  \n",
    "난수란? 랜덤값"
   ]
  },
  {
   "cell_type": "code",
   "execution_count": 173,
   "id": "7fcd37e0-1c92-49fa-9de7-7886e678ee95",
   "metadata": {},
   "outputs": [
    {
     "data": {
      "text/plain": [
       "array([ 1.69356583, -2.32123112,  1.06647798,  2.41810552, -2.27741965,\n",
       "        0.31759952,  1.1873054 , -0.22423065, -1.43868583,  0.9777659 ])"
      ]
     },
     "execution_count": 173,
     "metadata": {},
     "output_type": "execute_result"
    }
   ],
   "source": [
    "# 랜덤값 만들기\n",
    "# 표준 정규 분포 : 표준 편차가 1인 그래프에서 랜덤값을 생성 (-3 ~ 3)\n",
    "# 랜덤값 10개 생성\n",
    "arr = np.random.standard_normal(size=10)\n",
    "arr"
   ]
  },
  {
   "cell_type": "code",
   "execution_count": 174,
   "id": "9866b2ff-15f8-4434-a60a-7a9c4602b330",
   "metadata": {},
   "outputs": [
    {
     "data": {
      "text/plain": [
       "array([0.57302728, 0.72336248, 0.27380065, 0.11510051, 0.83463713,\n",
       "       0.38145765, 0.96784099, 0.02428253, 0.79733675, 0.92291653])"
      ]
     },
     "execution_count": 174,
     "metadata": {},
     "output_type": "execute_result"
    }
   ],
   "source": [
    "# 균일 분포 : 범위 0~1. 모든 값이 같은 확률로 나옴\n",
    "arr = np.random.uniform(size=10)\n",
    "arr\n"
   ]
  },
  {
   "cell_type": "markdown",
   "id": "280d4138-bf69-4216-9607-f674c9e35322",
   "metadata": {},
   "source": [
    "<연습문제>"
   ]
  },
  {
   "cell_type": "code",
   "execution_count": 177,
   "id": "ddf34248-1cbe-4193-b29c-29da455f1b3c",
   "metadata": {},
   "outputs": [
    {
     "name": "stdout",
     "output_type": "stream",
     "text": [
      "[ 0.15591011 -0.28250867  0.90517499 -0.49070698  0.79320379]\n",
      "[0.72076397 0.64892375 0.93619639 0.7997729  0.32842586]\n"
     ]
    }
   ],
   "source": [
    "# 표준 정규 분포에서 랜덤값 5개 생성\n",
    "arr = np.random.standard_normal(size=5)\n",
    "print(arr)\n",
    "\n",
    "# 균일 분포에서 랜덤값 5개 생성\n",
    "arr = np.random.uniform(size=5)\n",
    "print(arr)"
   ]
  },
  {
   "cell_type": "markdown",
   "id": "b3d68553-08b8-4b9c-9ee7-346c6a01bc18",
   "metadata": {},
   "source": [
    "3.4 유니버셜 함수  \n",
    "반복문없이 배열 전체에 계산을 해주는 함수"
   ]
  },
  {
   "cell_type": "code",
   "execution_count": 178,
   "id": "bf743a41-75e6-4029-8939-f9b29017c9cc",
   "metadata": {},
   "outputs": [
    {
     "data": {
      "text/plain": [
       "array([0, 1, 2, 3, 4, 5, 6, 7, 8, 9])"
      ]
     },
     "execution_count": 178,
     "metadata": {},
     "output_type": "execute_result"
    }
   ],
   "source": [
    "# 0~9 숫자가 담긴 1차원 배열 생성\n",
    "arr = np.arange(10)\n",
    "arr"
   ]
  },
  {
   "cell_type": "code",
   "execution_count": 180,
   "id": "36ad1a19-f894-4449-bcf7-45716023bbf7",
   "metadata": {},
   "outputs": [
    {
     "data": {
      "text/plain": [
       "array([ 3,  4,  5,  6,  7,  8,  9, 10, 11, 12])"
      ]
     },
     "execution_count": 180,
     "metadata": {},
     "output_type": "execute_result"
    }
   ],
   "source": [
    "# 파이썬의 리스트는 for문을 사용해서 계산해야함\n",
    "# 넘파이의 배열은 for문 없이 계산 가능\n",
    "# 배열 전체에 3 더하기\n",
    "# add : 더하기\n",
    "np.add(arr,3)"
   ]
  },
  {
   "cell_type": "code",
   "execution_count": 182,
   "id": "65cc77e3-3b19-4c35-b376-ab6c8c7f9337",
   "metadata": {},
   "outputs": [
    {
     "data": {
      "text/plain": [
       "array([ 3,  7,  5,  6, 10])"
      ]
     },
     "execution_count": 182,
     "metadata": {},
     "output_type": "execute_result"
    }
   ],
   "source": [
    "a = np.array([1,7,2,4,10])\n",
    "b = np.array([3,4,5,6,7])\n",
    "\n",
    "# 두 배열을 비교하여 더 큰 값 저장하기\n",
    "np.maximum(a,b)"
   ]
  },
  {
   "cell_type": "markdown",
   "id": "2abfcc3e-c1ec-490b-972a-1da3af4d8a9c",
   "metadata": {},
   "source": [
    "조건문"
   ]
  },
  {
   "cell_type": "code",
   "execution_count": 187,
   "id": "a765c5b8-e88c-4ce3-b943-9ecb3664d999",
   "metadata": {},
   "outputs": [],
   "source": [
    "# # 배열 두 개 만들기\n",
    "# a = np.array([1,2,3])\n",
    "# b = np.array([10,20,30])\n",
    "# # 불리언 배열 만들기(조건)\n",
    "# cond = np.array([True, True, False])\n",
    "\n",
    "a = np.array([1,2,3])\n",
    "b = np.array([10,20,30])\n",
    "cond = np.array([True, True, False])"
   ]
  },
  {
   "cell_type": "code",
   "execution_count": 188,
   "id": "c62939be-de72-4593-8164-e949021cab25",
   "metadata": {},
   "outputs": [
    {
     "name": "stdout",
     "output_type": "stream",
     "text": [
      "[ 1  2 30]\n"
     ]
    }
   ],
   "source": [
    "# where(조건, 참일때값, 거짓일때값) : 조건문 쓰기\n",
    "# 조건이 참이면 a에서 값을 선댁, 거짓이면 b에서 값을 선택        \n",
    "result = np.where(cond, a, b)\n",
    "print(result)"
   ]
  },
  {
   "cell_type": "code",
   "execution_count": 186,
   "id": "d835e62b-6301-4e63-a303-45c7d9f654a9",
   "metadata": {},
   "outputs": [
    {
     "name": "stdout",
     "output_type": "stream",
     "text": [
      "[False False False  True  True]\n"
     ]
    },
    {
     "data": {
      "text/plain": [
       "array(['x', 'x', 'x', 'o', 'o'], dtype='<U1')"
      ]
     },
     "execution_count": 186,
     "metadata": {},
     "output_type": "execute_result"
    }
   ],
   "source": [
    "# 1차원 배열 생성\n",
    "arr = np.array([-2,-1,0,1,2])\n",
    "\n",
    "# 양수면 'o', 음수면 'x'로 반환\n",
    "# 조건, 참일때값, 거짓일때값\n",
    "# 조건이 true면 o를 선택, false면 x를 선택\n",
    "print(arr>0)\n",
    "np.where(arr > 0, 'o','x')\n",
    "\n",
    "# 조건배열 만들기\n"
   ]
  },
  {
   "cell_type": "markdown",
   "id": "8b60aaba-53a6-4fb4-b79f-3b37b8ce0bc7",
   "metadata": {},
   "source": [
    "<연습문제>"
   ]
  },
  {
   "cell_type": "code",
   "execution_count": 196,
   "id": "d0f6098c-18e7-40c3-95ca-8b805a4458ef",
   "metadata": {},
   "outputs": [
    {
     "name": "stdout",
     "output_type": "stream",
     "text": [
      "[-1  8 22  6 -1]\n",
      "[-1  1  1  1 -1]\n"
     ]
    },
    {
     "data": {
      "text/plain": [
       "array([10,  2, 30,  4, 50])"
      ]
     },
     "execution_count": 196,
     "metadata": {},
     "output_type": "execute_result"
    }
   ],
   "source": [
    "# 배열 [5,12,7,20,3]에서\n",
    "# 10보다 크면 '100', 10 이하면 '0'으로 바꾸세요.\n",
    "\n",
    "arr>10\n",
    "np.where(arr>10,'100','0')\n",
    "\n",
    "# 배열 [15,8,22,6,13]에서\n",
    "# 짝수면 1, 홀수면 -1로 바꾸세요.\n",
    "arr = np.array([15,8,22,6,13])\n",
    "arr[arr%2 == 1] = -1\n",
    "print(arr)\n",
    "arr[arr%2 == 0] = 1\n",
    "print(arr)\n",
    "\n",
    "# 배열 [10,20,30,40,50]과 [1,2,3,4,5]을 만들고 조건배열 [True, False, True, False, True] 를 사용해 \n",
    "# 조건이 True일 때는 첫 번째 배열 값, False일 때는 두 번째 배열값을 선택 \n",
    "arr1 = np.array([10,20,30,40,50])\n",
    "arr2 = np.array([1,2,3,4,5])\n",
    "cond = np.array([True, False, True, False, True])\n",
    "np.where(cond,arr1,arr2)"
   ]
  },
  {
   "cell_type": "markdown",
   "id": "429387dd-9070-463f-ac5f-629334c469d2",
   "metadata": {},
   "source": [
    "통계를 구할 때 자주 사용하는 함수들  \n",
    "(최대한 최소 합계 평균)"
   ]
  },
  {
   "cell_type": "code",
   "execution_count": 201,
   "id": "8515931a-a821-4711-b8b5-9c8734a36051",
   "metadata": {},
   "outputs": [
    {
     "name": "stdout",
     "output_type": "stream",
     "text": [
      "3.0\n"
     ]
    }
   ],
   "source": [
    "# 파이썬의 리스트 생성\n",
    "lis = [1,2,3,4,5]\n",
    "# 리스트의 총합을 구하세요\n",
    "sum=0\n",
    "for i in lis:\n",
    "    sum=sum+i\n",
    "# 리스트의 평균을 구하세요\n",
    "print(sum/len(lis))"
   ]
  },
  {
   "cell_type": "code",
   "execution_count": 203,
   "id": "6a4f7ffd-933e-4bfb-a04c-33f31dcdce3c",
   "metadata": {},
   "outputs": [
    {
     "name": "stdout",
     "output_type": "stream",
     "text": [
      "15\n",
      "3.0\n",
      "5\n",
      "1\n"
     ]
    }
   ],
   "source": [
    "# 넘파이 배열로 합계와 평균 구하기\n",
    "arr = np.array([1,2,3,4,5])\n",
    "print(np.sum(arr))\n",
    "print(np.mean(arr))\n",
    "# 배열에서 제일 큰 값\n",
    "print(np.max(arr))\n",
    "# 배열에서 제일 작은 값\n",
    "print(np.min(arr))"
   ]
  },
  {
   "cell_type": "markdown",
   "id": "e30942cf-527e-4698-845a-a969543bf912",
   "metadata": {},
   "source": [
    "<연습문제>"
   ]
  },
  {
   "cell_type": "code",
   "execution_count": 207,
   "id": "732cabf0-4572-4193-91de-144425deb0d5",
   "metadata": {},
   "outputs": [
    {
     "name": "stdout",
     "output_type": "stream",
     "text": [
      "2000\n",
      "500.0\n",
      "800\n",
      "250\n",
      "280\n",
      "40.0\n",
      "60\n",
      "20\n"
     ]
    }
   ],
   "source": [
    "# 칼로리\n",
    "arr = np.array([250,550,400,800])\n",
    "\n",
    "print(np.sum(arr))\n",
    "print(np.mean(arr))\n",
    "print(np.max(arr))\n",
    "print(np.min(arr))\n",
    "\n",
    "# 운동한 시간\n",
    "arr = np.array([30,45,60,20,40,50,35])\n",
    "print(np.sum(arr))\n",
    "print(np.mean(arr))\n",
    "print(np.max(arr))\n",
    "print(np.min(arr))"
   ]
  },
  {
   "cell_type": "markdown",
   "id": "4f73b11a-ba65-4790-8199-4987686a7314",
   "metadata": {},
   "source": [
    "행/열 단위로 합계 구하기"
   ]
  },
  {
   "cell_type": "code",
   "execution_count": 215,
   "id": "37af0183-cbc3-4455-b90c-3d788e2951c4",
   "metadata": {},
   "outputs": [
    {
     "name": "stdout",
     "output_type": "stream",
     "text": [
      "[[1 2 3]\n",
      " [4 5 6]\n",
      " [7 8 9]]\n"
     ]
    },
    {
     "data": {
      "text/plain": [
       "array([ 6, 15, 24])"
      ]
     },
     "execution_count": 215,
     "metadata": {},
     "output_type": "execute_result"
    }
   ],
   "source": [
    "arr = np.arange(1,10).reshape(3,3)\n",
    "print(arr)\n",
    "\n",
    "# 배열의 합계 구하기\n",
    "arr.sum()\n",
    "# 2차원 배열에서 행 또는 열 방향으로 합 구하기\n",
    "# axis:0 -> 세로 방향으로 합 계산\n",
    "arr.sum(axis=0)\n",
    "# axis=1 -> 가로 방향으로 합 계산\n",
    "arr.sum(axis=1)"
   ]
  },
  {
   "cell_type": "code",
   "execution_count": 216,
   "id": "c0d7ab8b-2f55-4024-938d-15e99686c176",
   "metadata": {},
   "outputs": [
    {
     "data": {
      "text/plain": [
       "array([ 1,  3,  6, 10, 15])"
      ]
     },
     "execution_count": 216,
     "metadata": {},
     "output_type": "execute_result"
    }
   ],
   "source": [
    "# 누적값 구하기\n",
    "# 합을 구하는 중간 과정을 보여줌\n",
    "arr = np.array([1,2,3,4,5])\n",
    "arr.cumsum()"
   ]
  },
  {
   "cell_type": "code",
   "execution_count": 220,
   "id": "a792ea83-5f6e-4a05-8387-3e514ce9aff4",
   "metadata": {},
   "outputs": [
    {
     "name": "stdout",
     "output_type": "stream",
     "text": [
      "[[0 1 2]\n",
      " [3 4 5]\n",
      " [6 7 8]]\n",
      "[[ 0  1  2]\n",
      " [ 3  5  7]\n",
      " [ 9 12 15]]\n",
      "[[ 0  1  3]\n",
      " [ 3  7 12]\n",
      " [ 6 13 21]]\n"
     ]
    }
   ],
   "source": [
    "# 2차원 배열 생성\n",
    "arr = np.array([[0,1,2],[3,4,5],[6,7,8]])\n",
    "print(arr)\n",
    "# 2차원 배열의 누적값 구하기\n",
    "# 기준 설정(세로방향, 위->아래)\n",
    "# 앞에 있는 수를 더한 결과\n",
    "print(arr.cumsum(axis=0))\n",
    "# \n",
    "print(arr.cumsum(axis=1))"
   ]
  },
  {
   "cell_type": "code",
   "execution_count": null,
   "id": "4ea7f59b-0204-4e11-be45-7110d4ebca25",
   "metadata": {},
   "outputs": [],
   "source": []
  }
 ],
 "metadata": {
  "kernelspec": {
   "display_name": "Python 3 (ipykernel)",
   "language": "python",
   "name": "python3"
  },
  "language_info": {
   "codemirror_mode": {
    "name": "ipython",
    "version": 3
   },
   "file_extension": ".py",
   "mimetype": "text/x-python",
   "name": "python",
   "nbconvert_exporter": "python",
   "pygments_lexer": "ipython3",
   "version": "3.10.18"
  }
 },
 "nbformat": 4,
 "nbformat_minor": 5
}
