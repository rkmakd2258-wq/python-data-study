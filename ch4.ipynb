{
 "cells": [
  {
   "cell_type": "markdown",
   "id": "adb60bae-3ca1-41d3-be6a-f584acfecdb3",
   "metadata": {},
   "source": [
    "### 판다스 (pandas)\n",
    "데이터를 관리하기 위한 모듈로, 시리즈와 데이터 프레임을 제공함"
   ]
  },
  {
   "cell_type": "code",
   "execution_count": 4,
   "id": "d278281f-0fa6-4d9f-94d9-5675e1aa3443",
   "metadata": {},
   "outputs": [],
   "source": [
    "# 모듈 불러오기\n",
    "# 넘파이 모듈을 np라고 부른다\n",
    "import numpy as np\n",
    "# 넘파이 모듈을 pd라고 부른다\n",
    "import pandas as pd"
   ]
  },
  {
   "cell_type": "markdown",
   "id": "331c979a-6e4e-40fc-a8da-6a80390cee7c",
   "metadata": {},
   "source": [
    "### 4.1 시리즈 (series)\n",
    "<small>\n",
    "데이터를 한줄로 담는 자료 구조<br>\n",
    "리스트와 다른 점은 데이터에 이름표를 붙일 수 있다 (index)\n",
    "/<small>"
   ]
  },
  {
   "cell_type": "code",
   "execution_count": 3,
   "id": "34241f39-ec37-479f-9ee4-2e166fe34fae",
   "metadata": {},
   "outputs": [
    {
     "name": "stdout",
     "output_type": "stream",
     "text": [
      "0    1\n",
      "1    2\n",
      "2    3\n",
      "3    4\n",
      "dtype: int64\n"
     ]
    }
   ],
   "source": [
    "# 시리즈 생성\n",
    "# 인덱스가 자동으로 설정됨(0~3)\n",
    "# 시리즈의 인덱스 확인\n",
    "s = pd.Series([1,2,3,4])\n",
    "print(s)"
   ]
  },
  {
   "cell_type": "markdown",
   "id": "c26e6f44-f438-45c5-83c5-d9e2f1427b00",
   "metadata": {},
   "source": [
    "데이터 프레임에서 계산과 처리"
   ]
  },
  {
   "cell_type": "code",
   "execution_count": 7,
   "id": "89df29a8-7a4f-48a9-888f-c54b1da46b7b",
   "metadata": {},
   "outputs": [
    {
     "data": {
      "text/html": [
       "<div>\n",
       "<style scoped>\n",
       "    .dataframe tbody tr th:only-of-type {\n",
       "        vertical-align: middle;\n",
       "    }\n",
       "\n",
       "    .dataframe tbody tr th {\n",
       "        vertical-align: top;\n",
       "    }\n",
       "\n",
       "    .dataframe thead th {\n",
       "        text-align: right;\n",
       "    }\n",
       "</style>\n",
       "<table border=\"1\" class=\"dataframe\">\n",
       "  <thead>\n",
       "    <tr style=\"text-align: right;\">\n",
       "      <th></th>\n",
       "      <th>국어</th>\n",
       "      <th>영어</th>\n",
       "      <th>수학</th>\n",
       "    </tr>\n",
       "  </thead>\n",
       "  <tbody>\n",
       "    <tr>\n",
       "      <th>둘리</th>\n",
       "      <td>60</td>\n",
       "      <td>70</td>\n",
       "      <td>80</td>\n",
       "    </tr>\n",
       "    <tr>\n",
       "      <th>또치</th>\n",
       "      <td>70</td>\n",
       "      <td>80</td>\n",
       "      <td>90</td>\n",
       "    </tr>\n",
       "    <tr>\n",
       "      <th>도우너</th>\n",
       "      <td>80</td>\n",
       "      <td>90</td>\n",
       "      <td>10</td>\n",
       "    </tr>\n",
       "  </tbody>\n",
       "</table>\n",
       "</div>"
      ],
      "text/plain": [
       "     국어  영어  수학\n",
       "둘리   60  70  80\n",
       "또치   70  80  90\n",
       "도우너  80  90  10"
      ]
     },
     "execution_count": 7,
     "metadata": {},
     "output_type": "execute_result"
    }
   ],
   "source": [
    "# 학생 성적 데이터 만들기\n",
    "data = np.array([ [60,70,80],[70,80,90],[80,90,10] ])\n",
    "# 성적데이터를 담아서 프레임 생성\n",
    "df = pd.DataFrame(data,\n",
    "                  index=['둘리','또치','도우너'],\n",
    "                  columns=['국어','영어','수학'])\n",
    "df"
   ]
  },
  {
   "cell_type": "code",
   "execution_count": 12,
   "id": "1344aa35-c89b-4eee-8eb1-083e5b1e480e",
   "metadata": {},
   "outputs": [
    {
     "data": {
      "text/plain": [
       "pandas.core.series.Series"
      ]
     },
     "execution_count": 12,
     "metadata": {},
     "output_type": "execute_result"
    }
   ],
   "source": [
    "# 국어 과목만 조회\n",
    "df['국어']\n",
    "# 국어과목에 담겨있는 값은 자료형\n",
    "df['국어'].dtype\n",
    "# 국어과목의 자료 구조\n",
    "type(df['국어'])\n",
    "# 데이터프레임은 여러 시리즈의 묶음"
   ]
  },
  {
   "cell_type": "code",
   "execution_count": 15,
   "id": "91d87f64-eb5d-44ca-a460-addec13c0cea",
   "metadata": {},
   "outputs": [
    {
     "data": {
      "text/plain": [
       "둘리     70\n",
       "또치     80\n",
       "도우너    90\n",
       "Name: 국어, dtype: int64"
      ]
     },
     "execution_count": 15,
     "metadata": {},
     "output_type": "execute_result"
    }
   ],
   "source": [
    "# 전체 점수에 1점씩 더하기\n",
    "# 데이터 프레임 전체 데이터에 더하기가 적용됨\n",
    "df + 1\n",
    "# 국어점수만 10점씩 더하기\n",
    "df['국어'] +10"
   ]
  },
  {
   "cell_type": "code",
   "execution_count": 18,
   "id": "0cf39397-66f7-4164-abb1-8a71af129d18",
   "metadata": {},
   "outputs": [
    {
     "data": {
      "text/html": [
       "<div>\n",
       "<style scoped>\n",
       "    .dataframe tbody tr th:only-of-type {\n",
       "        vertical-align: middle;\n",
       "    }\n",
       "\n",
       "    .dataframe tbody tr th {\n",
       "        vertical-align: top;\n",
       "    }\n",
       "\n",
       "    .dataframe thead th {\n",
       "        text-align: right;\n",
       "    }\n",
       "</style>\n",
       "<table border=\"1\" class=\"dataframe\">\n",
       "  <thead>\n",
       "    <tr style=\"text-align: right;\">\n",
       "      <th></th>\n",
       "      <th>국어</th>\n",
       "      <th>영어</th>\n",
       "      <th>수학</th>\n",
       "    </tr>\n",
       "  </thead>\n",
       "  <tbody>\n",
       "    <tr>\n",
       "      <th>또치</th>\n",
       "      <td>70</td>\n",
       "      <td>80</td>\n",
       "      <td>90</td>\n",
       "    </tr>\n",
       "    <tr>\n",
       "      <th>도우너</th>\n",
       "      <td>80</td>\n",
       "      <td>90</td>\n",
       "      <td>10</td>\n",
       "    </tr>\n",
       "  </tbody>\n",
       "</table>\n",
       "</div>"
      ],
      "text/plain": [
       "     국어  영어  수학\n",
       "또치   70  80  90\n",
       "도우너  80  90  10"
      ]
     },
     "execution_count": 18,
     "metadata": {},
     "output_type": "execute_result"
    }
   ],
   "source": [
    "# 조건검색 (국어점수가 70점 이상인 학생만 찾기)\n",
    "df['국어'] >= 70\n",
    "# 프레임에 bool 배열을 인덱슬 사용\n",
    "df[df['국어'] >= 70]"
   ]
  },
  {
   "cell_type": "code",
   "execution_count": null,
   "id": "94b33420-b975-4115-ac11-f9aa93dbd63a",
   "metadata": {},
   "outputs": [],
   "source": []
  }
 ],
 "metadata": {
  "kernelspec": {
   "display_name": "Python 3 (ipykernel)",
   "language": "python",
   "name": "python3"
  },
  "language_info": {
   "codemirror_mode": {
    "name": "ipython",
    "version": 3
   },
   "file_extension": ".py",
   "mimetype": "text/x-python",
   "name": "python",
   "nbconvert_exporter": "python",
   "pygments_lexer": "ipython3",
   "version": "3.10.18"
  }
 },
 "nbformat": 4,
 "nbformat_minor": 5
}
