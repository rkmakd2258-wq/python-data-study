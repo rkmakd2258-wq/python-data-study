{
 "cells": [
  {
   "cell_type": "code",
   "execution_count": 87,
   "id": "578bf7bf-9e71-417c-8992-c9b8fa7cb4cf",
   "metadata": {},
   "outputs": [],
   "source": [
    "#  모듈 불러오기\n",
    "import numpy as np\n",
    "import pandas as pd"
   ]
  },
  {
   "cell_type": "markdown",
   "id": "6605437c-d4cb-4d95-bc60-64185e9ef554",
   "metadata": {},
   "source": [
    "시리즈의 멀티 인덱스"
   ]
  },
  {
   "cell_type": "code",
   "execution_count": 1,
   "id": "1ddc7471-bf10-4bbc-a419-6968aec1cd68",
   "metadata": {},
   "outputs": [],
   "source": [
    "# 문제1"
   ]
  },
  {
   "cell_type": "code",
   "execution_count": 17,
   "id": "abc6ffba-0237-40d2-b5e7-b0bec5f0ba5e",
   "metadata": {},
   "outputs": [
    {
     "data": {
      "text/plain": [
       "MultiIndex([('서울',  '강남점'),\n",
       "            ('서울',  '강북점'),\n",
       "            ('부산', '해운대점'),\n",
       "            ('부산',  '서면점')],\n",
       "           )"
      ]
     },
     "execution_count": 17,
     "metadata": {},
     "output_type": "execute_result"
    }
   ],
   "source": [
    "# 매출 데이터를 담은 시리즈 생성\n",
    "# 데이터 : 매출\n",
    "# 인덱스 : (멀티) 지역-지점\n",
    "# 1단계는 지역\n",
    "# 2단계는 지점\n",
    "\n",
    "s = pd.Series([120,100,90,80],\n",
    "              index= [['서울', '서울', '부산','부산'],\n",
    "                      ['강남점','강북점','해운대점','서면점']]\n",
    "             )\n",
    "s\n",
    "s.index"
   ]
  },
  {
   "cell_type": "code",
   "execution_count": 9,
   "id": "7894186f-83b5-40dc-b750-b3fccf6f0a78",
   "metadata": {},
   "outputs": [
    {
     "data": {
      "text/plain": [
       "np.int64(90)"
      ]
     },
     "execution_count": 9,
     "metadata": {},
     "output_type": "execute_result"
    }
   ],
   "source": [
    "# 시리즈에서 값 꺼내기\n",
    "# 서울 전체 매출 조회\n",
    "s['서울']\n",
    "# 부산 해운대점 매출 조회\n",
    "s.loc[ ('부산','해운대점') ]"
   ]
  },
  {
   "cell_type": "code",
   "execution_count": null,
   "id": "4d676ede-5962-4b8e-b9e0-07ab56a3de52",
   "metadata": {},
   "outputs": [],
   "source": [
    "# 문제2"
   ]
  },
  {
   "cell_type": "code",
   "execution_count": 20,
   "id": "a47638c1-af97-4903-b6d5-2b8fce718a11",
   "metadata": {},
   "outputs": [
    {
     "data": {
      "text/plain": [
       "MultiIndex([('전자제품',  '노트북'),\n",
       "            ('전자제품', ',휴대폰'),\n",
       "            (  '식품',   '라면'),\n",
       "            (  '식품',   '과자')],\n",
       "           )"
      ]
     },
     "execution_count": 20,
     "metadata": {},
     "output_type": "execute_result"
    }
   ],
   "source": [
    "# 쇼핑몰의 판매량 데이터\n",
    "# • 인덱스 : 카테고리-상품명\n",
    "# • 값: 판매량\n",
    "# 데이터의 개수와 인덱스의 개수가 맞지 않으면, 에러남\n",
    "s = pd.Series([300,250,500,400],\n",
    "              index = [['전자제품','전자제품','식품','식품'],\n",
    "                       ['노트북',',휴대폰','라면','과자']]\n",
    "             )\n",
    "s\n",
    "s.index"
   ]
  },
  {
   "cell_type": "code",
   "execution_count": 21,
   "id": "c279bd0e-519c-451f-bbdf-5fbc7bef134b",
   "metadata": {},
   "outputs": [
    {
     "data": {
      "text/plain": [
       "np.int64(500)"
      ]
     },
     "execution_count": 21,
     "metadata": {},
     "output_type": "execute_result"
    }
   ],
   "source": [
    "# 전자제품 카테고리 전체 판매량을 조회하세요\n",
    "s['전자제품']\n",
    "# 식품 카테고리의 라면 판매량을 조회하세요\n",
    "s.loc['식품','라면']"
   ]
  },
  {
   "cell_type": "code",
   "execution_count": null,
   "id": "c6fcdbd9-f722-4a6f-963b-c5a03a6cba11",
   "metadata": {},
   "outputs": [],
   "source": [
    "# 문제3"
   ]
  },
  {
   "cell_type": "code",
   "execution_count": 19,
   "id": "df40dd01-2265-4e48-b5d5-4267fbe6751a",
   "metadata": {},
   "outputs": [
    {
     "data": {
      "text/plain": [
       "MultiIndex([('1학년', '국어'),\n",
       "            ('1학년', '수학'),\n",
       "            ('2학년', '국어'),\n",
       "            ('2학년', '수학')],\n",
       "           )"
      ]
     },
     "execution_count": 19,
     "metadata": {},
     "output_type": "execute_result"
    }
   ],
   "source": [
    "# 도서관의 대출 건수\n",
    "# • 인덱스: 학년-과목\n",
    "# • 값: 대출 건수\n",
    "\n",
    "s = pd.Series([40,35,50,45],\n",
    "              index=[['1학년','1학년','2학년','2학년'],\n",
    "                     ['국어', '수학', '국어', '수학']]\n",
    "             )\n",
    "s\n",
    "s.index"
   ]
  },
  {
   "cell_type": "code",
   "execution_count": 16,
   "id": "33bfef4f-58a7-445c-8a64-ee7a333f078b",
   "metadata": {},
   "outputs": [
    {
     "data": {
      "text/plain": [
       "np.int64(45)"
      ]
     },
     "execution_count": 16,
     "metadata": {},
     "output_type": "execute_result"
    }
   ],
   "source": [
    "# 1학년 전체 대출 건수를 조회하세요\n",
    "s['1학년']\n",
    "# 2학년 수학 과목의 대출 건수를 조회하세요\n",
    "s.loc['2학년','수학']"
   ]
  },
  {
   "cell_type": "markdown",
   "id": "e14100f0-8575-4f79-9354-9daa303f2f0d",
   "metadata": {},
   "source": [
    "데이터 프레임의 멀티 인덱스"
   ]
  },
  {
   "cell_type": "code",
   "execution_count": null,
   "id": "b1b1c8c0-059f-40d9-8d1d-236a79e48521",
   "metadata": {},
   "outputs": [],
   "source": [
    "# 문제1"
   ]
  },
  {
   "cell_type": "code",
   "execution_count": 25,
   "id": "4e155786-a23d-4bfc-aac3-93738463fdf9",
   "metadata": {},
   "outputs": [
    {
     "data": {
      "text/html": [
       "<div>\n",
       "<style scoped>\n",
       "    .dataframe tbody tr th:only-of-type {\n",
       "        vertical-align: middle;\n",
       "    }\n",
       "\n",
       "    .dataframe tbody tr th {\n",
       "        vertical-align: top;\n",
       "    }\n",
       "\n",
       "    .dataframe thead th {\n",
       "        text-align: right;\n",
       "    }\n",
       "</style>\n",
       "<table border=\"1\" class=\"dataframe\">\n",
       "  <thead>\n",
       "    <tr style=\"text-align: right;\">\n",
       "      <th></th>\n",
       "      <th></th>\n",
       "      <th>소설</th>\n",
       "      <th>과학</th>\n",
       "    </tr>\n",
       "  </thead>\n",
       "  <tbody>\n",
       "    <tr>\n",
       "      <th rowspan=\"2\" valign=\"top\">중앙도서관</th>\n",
       "      <th>1월</th>\n",
       "      <td>120</td>\n",
       "      <td>45</td>\n",
       "    </tr>\n",
       "    <tr>\n",
       "      <th>2월</th>\n",
       "      <td>95</td>\n",
       "      <td>60</td>\n",
       "    </tr>\n",
       "    <tr>\n",
       "      <th rowspan=\"2\" valign=\"top\">시립도서관</th>\n",
       "      <th>1월</th>\n",
       "      <td>150</td>\n",
       "      <td>70</td>\n",
       "    </tr>\n",
       "    <tr>\n",
       "      <th>2월</th>\n",
       "      <td>110</td>\n",
       "      <td>55</td>\n",
       "    </tr>\n",
       "  </tbody>\n",
       "</table>\n",
       "</div>"
      ],
      "text/plain": [
       "           소설  과학\n",
       "중앙도서관 1월  120  45\n",
       "      2월   95  60\n",
       "시립도서관 1월  150  70\n",
       "      2월  110  55"
      ]
     },
     "execution_count": 25,
     "metadata": {},
     "output_type": "execute_result"
    }
   ],
   "source": [
    "# 도서관 대출 건수 데이터프레임 생성\n",
    "# 행: 도서관-월\n",
    "# 열: 책의 카테고리\n",
    "# 데이터: 대출 건수\n",
    "df = pd.DataFrame( [ [120,45], [95,60], [150,70], [110,55] ],\n",
    "                 index=[ ['중앙도서관','중앙도서관','시립도서관','시립도서관'],\n",
    "                         ['1월','2월','1월','2월'] ],\n",
    "                 columns=['소설','과학']\n",
    "                 )\n",
    "df"
   ]
  },
  {
   "cell_type": "code",
   "execution_count": 28,
   "id": "e348ca5f-f54e-485e-8f07-af9a4e3bf239",
   "metadata": {},
   "outputs": [
    {
     "name": "stdout",
     "output_type": "stream",
     "text": [
      "MultiIndex([('중앙도서관', '1월'),\n",
      "            ('중앙도서관', '2월'),\n",
      "            ('시립도서관', '1월'),\n",
      "            ('시립도서관', '2월')],\n",
      "           )\n",
      "Index(['소설', '과학'], dtype='object')\n"
     ]
    },
    {
     "data": {
      "text/plain": [
       "np.int64(55)"
      ]
     },
     "execution_count": 28,
     "metadata": {},
     "output_type": "execute_result"
    }
   ],
   "source": [
    "# 중앙도서관 전체 대출 건수를 조회하세요\n",
    "print(df.index)\n",
    "print(df.columns)\n",
    "df.loc['중앙도서관']\n",
    "# 시립도서관 2월의 과학 대출 건수를 조회하세요\n",
    "df.loc[('시립도서관', '2월'),'과학']"
   ]
  },
  {
   "cell_type": "code",
   "execution_count": null,
   "id": "18ee0253-7f1e-4ad7-a8e8-600c2777d527",
   "metadata": {},
   "outputs": [],
   "source": [
    "# 문제2"
   ]
  },
  {
   "cell_type": "code",
   "execution_count": 37,
   "id": "14fb2863-2882-4275-824a-0d0fdc2f4d51",
   "metadata": {},
   "outputs": [
    {
     "data": {
      "text/html": [
       "<div>\n",
       "<style scoped>\n",
       "    .dataframe tbody tr th:only-of-type {\n",
       "        vertical-align: middle;\n",
       "    }\n",
       "\n",
       "    .dataframe tbody tr th {\n",
       "        vertical-align: top;\n",
       "    }\n",
       "\n",
       "    .dataframe thead th {\n",
       "        text-align: right;\n",
       "    }\n",
       "</style>\n",
       "<table border=\"1\" class=\"dataframe\">\n",
       "  <thead>\n",
       "    <tr style=\"text-align: right;\">\n",
       "      <th></th>\n",
       "      <th></th>\n",
       "      <th>1분기</th>\n",
       "      <th>2분기</th>\n",
       "    </tr>\n",
       "  </thead>\n",
       "  <tbody>\n",
       "    <tr>\n",
       "      <th rowspan=\"2\" valign=\"top\">2022년</th>\n",
       "      <th>SUV</th>\n",
       "      <td>320</td>\n",
       "      <td>280</td>\n",
       "    </tr>\n",
       "    <tr>\n",
       "      <th>세단</th>\n",
       "      <td>210</td>\n",
       "      <td>230</td>\n",
       "    </tr>\n",
       "    <tr>\n",
       "      <th rowspan=\"2\" valign=\"top\">2023년</th>\n",
       "      <th>SUV</th>\n",
       "      <td>400</td>\n",
       "      <td>390</td>\n",
       "    </tr>\n",
       "    <tr>\n",
       "      <th>세단</th>\n",
       "      <td>180</td>\n",
       "      <td>200</td>\n",
       "    </tr>\n",
       "  </tbody>\n",
       "</table>\n",
       "</div>"
      ],
      "text/plain": [
       "           1분기  2분기\n",
       "2022년 SUV  320  280\n",
       "      세단   210  230\n",
       "2023년 SUV  400  390\n",
       "      세단   180  200"
      ]
     },
     "execution_count": 37,
     "metadata": {},
     "output_type": "execute_result"
    }
   ],
   "source": [
    "# 자동차 판매량 데이터프레임 생성\n",
    "# 행 인덱스: 연도-차종\n",
    "# 열: 1분기, 2분기\n",
    "# 값: 판매 대수\n",
    "df = pd.DataFrame( [ [320,280],[210,230],[400,390],[180,200]],\n",
    "                   index=[ ['2022년','2022년','2023년','2023년'],\n",
    "                          ['SUV','세단','SUV','세단'] ],\n",
    "                   columns=['1분기','2분기']\n",
    "                 )\n",
    "df"
   ]
  },
  {
   "cell_type": "code",
   "execution_count": 36,
   "id": "09e92ac8-c2ff-4785-9326-ee003a5c2cc6",
   "metadata": {},
   "outputs": [
    {
     "name": "stdout",
     "output_type": "stream",
     "text": [
      "MultiIndex([('2022년', 'SUV'),\n",
      "            ('2022년',  '세단'),\n",
      "            ('2023년', 'SUV'),\n",
      "            ('2023년',  '세단')],\n",
      "           )\n",
      "Index(['1분기', '2분기'], dtype='object')\n"
     ]
    },
    {
     "data": {
      "text/plain": [
       "np.int64(200)"
      ]
     },
     "execution_count": 36,
     "metadata": {},
     "output_type": "execute_result"
    }
   ],
   "source": [
    "print(df.index)\n",
    "print(df.columns)\n",
    "# 2022년 전체 판매량을 조회하세요\n",
    "df.loc['2022년']\n",
    "\n",
    "# 2023년 세단의 2분기 판매량을 조회하세요\n",
    "df.loc[('2023년',  '세단'), '2분기']"
   ]
  },
  {
   "cell_type": "code",
   "execution_count": null,
   "id": "4a35d60b-8747-4bbf-adad-c71e6c930ee2",
   "metadata": {},
   "outputs": [],
   "source": [
    "# 문제3"
   ]
  },
  {
   "cell_type": "code",
   "execution_count": 44,
   "id": "bf12b9bb-7667-4466-bff5-ebde6a6ba8d7",
   "metadata": {},
   "outputs": [
    {
     "data": {
      "text/html": [
       "<div>\n",
       "<style scoped>\n",
       "    .dataframe tbody tr th:only-of-type {\n",
       "        vertical-align: middle;\n",
       "    }\n",
       "\n",
       "    .dataframe tbody tr th {\n",
       "        vertical-align: top;\n",
       "    }\n",
       "\n",
       "    .dataframe thead th {\n",
       "        text-align: right;\n",
       "    }\n",
       "</style>\n",
       "<table border=\"1\" class=\"dataframe\">\n",
       "  <thead>\n",
       "    <tr style=\"text-align: right;\">\n",
       "      <th></th>\n",
       "      <th></th>\n",
       "      <th>싱글룸</th>\n",
       "      <th>더블룸</th>\n",
       "    </tr>\n",
       "  </thead>\n",
       "  <tbody>\n",
       "    <tr>\n",
       "      <th rowspan=\"2\" valign=\"top\">서울지점</th>\n",
       "      <th>7월</th>\n",
       "      <td>45</td>\n",
       "      <td>30</td>\n",
       "    </tr>\n",
       "    <tr>\n",
       "      <th>8월</th>\n",
       "      <td>50</td>\n",
       "      <td>35</td>\n",
       "    </tr>\n",
       "    <tr>\n",
       "      <th rowspan=\"2\" valign=\"top\">부산지점</th>\n",
       "      <th>7월</th>\n",
       "      <td>60</td>\n",
       "      <td>40</td>\n",
       "    </tr>\n",
       "    <tr>\n",
       "      <th>8월</th>\n",
       "      <td>55</td>\n",
       "      <td>38</td>\n",
       "    </tr>\n",
       "  </tbody>\n",
       "</table>\n",
       "</div>"
      ],
      "text/plain": [
       "         싱글룸  더블룸\n",
       "서울지점 7월   45   30\n",
       "     8월   50   35\n",
       "부산지점 7월   60   40\n",
       "     8월   55   38"
      ]
     },
     "execution_count": 44,
     "metadata": {},
     "output_type": "execute_result"
    }
   ],
   "source": [
    "# 호텔 예약 건수 데이터프레임 생성\n",
    "# • 행 인덱스: 지점-월\n",
    "# • 열: 싱글룸, 더블룸\n",
    "# • 값: 예약 건수\n",
    "\n",
    "df = pd.DataFrame([[45,30],[50,35],[60,40],[55,38]],\n",
    "                 index=[['서울지점','서울지점','부산지점','부산지점'],\n",
    "                       ['7월','8월','7월','8월']],\n",
    "                 columns=['싱글룸','더블룸'])\n",
    "df"
   ]
  },
  {
   "cell_type": "code",
   "execution_count": 46,
   "id": "f5df090e-f4b3-4fcb-abdd-2694b25dc0ec",
   "metadata": {},
   "outputs": [
    {
     "name": "stdout",
     "output_type": "stream",
     "text": [
      "MultiIndex([('서울지점', '7월'),\n",
      "            ('서울지점', '8월'),\n",
      "            ('부산지점', '7월'),\n",
      "            ('부산지점', '8월')],\n",
      "           )\n",
      "Index(['싱글룸', '더블룸'], dtype='object')\n"
     ]
    },
    {
     "data": {
      "text/plain": [
       "np.int64(38)"
      ]
     },
     "execution_count": 46,
     "metadata": {},
     "output_type": "execute_result"
    }
   ],
   "source": [
    "print(df.index)\n",
    "print(df.columns)\n",
    "# 서울지점 전체 예약 건수를 조회하세요\n",
    "df.loc['서울지점']\n",
    "# 부산지점 8월의 더블룸 예약 건수를 조회하세요\n",
    "df.loc[('부산지점', '8월'), '더블룸']"
   ]
  },
  {
   "cell_type": "code",
   "execution_count": null,
   "id": "b33b54fd-7918-40ad-a531-4b7b397de2b4",
   "metadata": {},
   "outputs": [],
   "source": [
    "# 문제4"
   ]
  },
  {
   "cell_type": "code",
   "execution_count": 39,
   "id": "7edf8bf5-1eee-40d1-97d8-2028b332be19",
   "metadata": {},
   "outputs": [
    {
     "data": {
      "text/html": [
       "<div>\n",
       "<style scoped>\n",
       "    .dataframe tbody tr th:only-of-type {\n",
       "        vertical-align: middle;\n",
       "    }\n",
       "\n",
       "    .dataframe tbody tr th {\n",
       "        vertical-align: top;\n",
       "    }\n",
       "\n",
       "    .dataframe thead th {\n",
       "        text-align: right;\n",
       "    }\n",
       "</style>\n",
       "<table border=\"1\" class=\"dataframe\">\n",
       "  <thead>\n",
       "    <tr style=\"text-align: right;\">\n",
       "      <th></th>\n",
       "      <th></th>\n",
       "      <th>1월</th>\n",
       "      <th>2월</th>\n",
       "    </tr>\n",
       "  </thead>\n",
       "  <tbody>\n",
       "    <tr>\n",
       "      <th rowspan=\"2\" valign=\"top\">가전</th>\n",
       "      <th>노트북</th>\n",
       "      <td>120</td>\n",
       "      <td>140</td>\n",
       "    </tr>\n",
       "    <tr>\n",
       "      <th>청소기</th>\n",
       "      <td>80</td>\n",
       "      <td>95</td>\n",
       "    </tr>\n",
       "    <tr>\n",
       "      <th rowspan=\"2\" valign=\"top\">식품</th>\n",
       "      <th>라면</th>\n",
       "      <td>200</td>\n",
       "      <td>220</td>\n",
       "    </tr>\n",
       "    <tr>\n",
       "      <th>과자</th>\n",
       "      <td>150</td>\n",
       "      <td>160</td>\n",
       "    </tr>\n",
       "  </tbody>\n",
       "</table>\n",
       "</div>"
      ],
      "text/plain": [
       "         1월   2월\n",
       "가전 노트북  120  140\n",
       "   청소기   80   95\n",
       "식품 라면   200  220\n",
       "   과자   150  160"
      ]
     },
     "execution_count": 39,
     "metadata": {},
     "output_type": "execute_result"
    }
   ],
   "source": [
    "# 쇼핑몰 주문 건수 데이터프레임 생성\n",
    "# • 행 인덱스: 카테고리-상품\n",
    "# • 열: 1월, 2월\n",
    "# • 값: 주문 건수\n",
    "\n",
    "df = pd.DataFrame([[120,140],[80,95],[200,220],[150,160]],\n",
    "                 index=[['가전','가전','식품','식품'],\n",
    "                        ['노트북','청소기','라면','과자']],\n",
    "                 columns=['1월','2월'])\n",
    "df"
   ]
  },
  {
   "cell_type": "code",
   "execution_count": 42,
   "id": "7f9f59be-eec6-45fa-892a-b98737bd8013",
   "metadata": {},
   "outputs": [
    {
     "name": "stdout",
     "output_type": "stream",
     "text": [
      "MultiIndex([('가전', '노트북'),\n",
      "            ('가전', '청소기'),\n",
      "            ('식품',  '라면'),\n",
      "            ('식품',  '과자')],\n",
      "           )\n",
      "Index(['1월', '2월'], dtype='object')\n"
     ]
    },
    {
     "data": {
      "text/plain": [
       "np.int64(220)"
      ]
     },
     "execution_count": 42,
     "metadata": {},
     "output_type": "execute_result"
    }
   ],
   "source": [
    "print(df.index)\n",
    "print(df.columns)\n",
    "# 가전 카테고리 전체 주문 건수를 조회하세요\n",
    "df.loc['가전']\n",
    "# 식품 카테고리 라면의 2월 주문 건수를 조회하세요\n",
    "df.loc[('식품',  '라면'), '2월']"
   ]
  },
  {
   "cell_type": "markdown",
   "id": "5ef8522d-07b5-41ad-9b24-e3686ca67c6d",
   "metadata": {},
   "source": [
    "데이터 합치기 (merge)"
   ]
  },
  {
   "cell_type": "code",
   "execution_count": 48,
   "id": "22b73c81-44c8-4de5-9f00-b5aa1195c47c",
   "metadata": {},
   "outputs": [],
   "source": [
    "# 문제1"
   ]
  },
  {
   "cell_type": "code",
   "execution_count": 55,
   "id": "00111ae6-b4a2-4226-ad03-cca3daca8d7b",
   "metadata": {},
   "outputs": [],
   "source": [
    "# 고객 데이터를 담은 DataFrame와 주문 데이터를 담은 DataFrame를 만들기\n",
    "df1 = pd.DataFrame({'고객ID':[101,102,103],'이름':['철수','영희','민수']})\n",
    "df2 = pd.DataFrame({'고객ID':[101,104,102],'상품':['노트북','청소기','책']})\n"
   ]
  },
  {
   "cell_type": "code",
   "execution_count": 58,
   "id": "82edbf03-92c6-4af3-ac78-2e2b2da685fe",
   "metadata": {},
   "outputs": [
    {
     "data": {
      "text/html": [
       "<div>\n",
       "<style scoped>\n",
       "    .dataframe tbody tr th:only-of-type {\n",
       "        vertical-align: middle;\n",
       "    }\n",
       "\n",
       "    .dataframe tbody tr th {\n",
       "        vertical-align: top;\n",
       "    }\n",
       "\n",
       "    .dataframe thead th {\n",
       "        text-align: right;\n",
       "    }\n",
       "</style>\n",
       "<table border=\"1\" class=\"dataframe\">\n",
       "  <thead>\n",
       "    <tr style=\"text-align: right;\">\n",
       "      <th></th>\n",
       "      <th>고객ID</th>\n",
       "      <th>이름</th>\n",
       "      <th>상품</th>\n",
       "    </tr>\n",
       "  </thead>\n",
       "  <tbody>\n",
       "    <tr>\n",
       "      <th>0</th>\n",
       "      <td>101</td>\n",
       "      <td>철수</td>\n",
       "      <td>노트북</td>\n",
       "    </tr>\n",
       "    <tr>\n",
       "      <th>1</th>\n",
       "      <td>102</td>\n",
       "      <td>영희</td>\n",
       "      <td>책</td>\n",
       "    </tr>\n",
       "  </tbody>\n",
       "</table>\n",
       "</div>"
      ],
      "text/plain": [
       "   고객ID  이름   상품\n",
       "0   101  철수  노트북\n",
       "1   102  영희    책"
      ]
     },
     "execution_count": 58,
     "metadata": {},
     "output_type": "execute_result"
    }
   ],
   "source": [
    "# 고객ID 기준으로 합치세요\n",
    "pd.merge(df1, df2, on='고객ID')"
   ]
  },
  {
   "cell_type": "code",
   "execution_count": null,
   "id": "f8330552-ebe9-4202-afdc-fea914b3983e",
   "metadata": {},
   "outputs": [],
   "source": [
    "# 문제2"
   ]
  },
  {
   "cell_type": "code",
   "execution_count": 61,
   "id": "3aba8839-7901-42cf-820d-943cee82befc",
   "metadata": {},
   "outputs": [
    {
     "data": {
      "text/html": [
       "<div>\n",
       "<style scoped>\n",
       "    .dataframe tbody tr th:only-of-type {\n",
       "        vertical-align: middle;\n",
       "    }\n",
       "\n",
       "    .dataframe tbody tr th {\n",
       "        vertical-align: top;\n",
       "    }\n",
       "\n",
       "    .dataframe thead th {\n",
       "        text-align: right;\n",
       "    }\n",
       "</style>\n",
       "<table border=\"1\" class=\"dataframe\">\n",
       "  <thead>\n",
       "    <tr style=\"text-align: right;\">\n",
       "      <th></th>\n",
       "      <th>사번</th>\n",
       "      <th>부서</th>\n",
       "    </tr>\n",
       "  </thead>\n",
       "  <tbody>\n",
       "    <tr>\n",
       "      <th>0</th>\n",
       "      <td>1</td>\n",
       "      <td>영업</td>\n",
       "    </tr>\n",
       "    <tr>\n",
       "      <th>1</th>\n",
       "      <td>3</td>\n",
       "      <td>개발</td>\n",
       "    </tr>\n",
       "  </tbody>\n",
       "</table>\n",
       "</div>"
      ],
      "text/plain": [
       "   사번  부서\n",
       "0   1  영업\n",
       "1   3  개발"
      ]
     },
     "execution_count": 61,
     "metadata": {},
     "output_type": "execute_result"
    }
   ],
   "source": [
    "# 직원 데이터를 담은 DataFrame와 부서 데이터를 담은 DataFrame를 만들기\n",
    "df1 = pd.DataFrame({'사번':[1,2,3],'이름':['홍길동','임꺽정','이몽룡']})\n",
    "df2 = pd.DataFrame({'사번':[1,3],'부서':['영업','개발']})"
   ]
  },
  {
   "cell_type": "code",
   "execution_count": 62,
   "id": "5452b5bd-f155-4c50-ad24-c747268ed3d1",
   "metadata": {},
   "outputs": [
    {
     "data": {
      "text/html": [
       "<div>\n",
       "<style scoped>\n",
       "    .dataframe tbody tr th:only-of-type {\n",
       "        vertical-align: middle;\n",
       "    }\n",
       "\n",
       "    .dataframe tbody tr th {\n",
       "        vertical-align: top;\n",
       "    }\n",
       "\n",
       "    .dataframe thead th {\n",
       "        text-align: right;\n",
       "    }\n",
       "</style>\n",
       "<table border=\"1\" class=\"dataframe\">\n",
       "  <thead>\n",
       "    <tr style=\"text-align: right;\">\n",
       "      <th></th>\n",
       "      <th>사번</th>\n",
       "      <th>이름</th>\n",
       "      <th>부서</th>\n",
       "    </tr>\n",
       "  </thead>\n",
       "  <tbody>\n",
       "    <tr>\n",
       "      <th>0</th>\n",
       "      <td>1</td>\n",
       "      <td>홍길동</td>\n",
       "      <td>영업</td>\n",
       "    </tr>\n",
       "    <tr>\n",
       "      <th>1</th>\n",
       "      <td>2</td>\n",
       "      <td>임꺽정</td>\n",
       "      <td>NaN</td>\n",
       "    </tr>\n",
       "    <tr>\n",
       "      <th>2</th>\n",
       "      <td>3</td>\n",
       "      <td>이몽룡</td>\n",
       "      <td>개발</td>\n",
       "    </tr>\n",
       "  </tbody>\n",
       "</table>\n",
       "</div>"
      ],
      "text/plain": [
       "   사번   이름   부서\n",
       "0   1  홍길동   영업\n",
       "1   2  임꺽정  NaN\n",
       "2   3  이몽룡   개발"
      ]
     },
     "execution_count": 62,
     "metadata": {},
     "output_type": "execute_result"
    }
   ],
   "source": [
    "# 사번 기준으로 합치세요\n",
    "pd.merge(df1,df2,on='사번',how='left')"
   ]
  },
  {
   "cell_type": "code",
   "execution_count": null,
   "id": "2fcd3802-f032-492f-8c81-591ec509f3e9",
   "metadata": {},
   "outputs": [],
   "source": [
    "# 문제3"
   ]
  },
  {
   "cell_type": "code",
   "execution_count": 63,
   "id": "895cca12-99e8-4d91-8de1-2ad59ba833e9",
   "metadata": {},
   "outputs": [],
   "source": [
    "# 상품 데이터를 담은 DataFrame와 재고 데이터를 담은 DataFrame를 만들기\n",
    "df1 = pd.DataFrame({'상품코드':['A1','A2','A3'],'상품명':['노트북','청소기','책상']})\n",
    "df2 = pd.DataFrame({'상품코드':['A2','A3','A4'],'재고':[5,8,10]})\n"
   ]
  },
  {
   "cell_type": "code",
   "execution_count": 64,
   "id": "65a64f4d-fb46-4074-a4cf-a1d18d1c040e",
   "metadata": {},
   "outputs": [
    {
     "data": {
      "text/html": [
       "<div>\n",
       "<style scoped>\n",
       "    .dataframe tbody tr th:only-of-type {\n",
       "        vertical-align: middle;\n",
       "    }\n",
       "\n",
       "    .dataframe tbody tr th {\n",
       "        vertical-align: top;\n",
       "    }\n",
       "\n",
       "    .dataframe thead th {\n",
       "        text-align: right;\n",
       "    }\n",
       "</style>\n",
       "<table border=\"1\" class=\"dataframe\">\n",
       "  <thead>\n",
       "    <tr style=\"text-align: right;\">\n",
       "      <th></th>\n",
       "      <th>상품코드</th>\n",
       "      <th>상품명</th>\n",
       "      <th>재고</th>\n",
       "    </tr>\n",
       "  </thead>\n",
       "  <tbody>\n",
       "    <tr>\n",
       "      <th>0</th>\n",
       "      <td>A2</td>\n",
       "      <td>청소기</td>\n",
       "      <td>5</td>\n",
       "    </tr>\n",
       "    <tr>\n",
       "      <th>1</th>\n",
       "      <td>A3</td>\n",
       "      <td>책상</td>\n",
       "      <td>8</td>\n",
       "    </tr>\n",
       "    <tr>\n",
       "      <th>2</th>\n",
       "      <td>A4</td>\n",
       "      <td>NaN</td>\n",
       "      <td>10</td>\n",
       "    </tr>\n",
       "  </tbody>\n",
       "</table>\n",
       "</div>"
      ],
      "text/plain": [
       "  상품코드  상품명  재고\n",
       "0   A2  청소기   5\n",
       "1   A3   책상   8\n",
       "2   A4  NaN  10"
      ]
     },
     "execution_count": 64,
     "metadata": {},
     "output_type": "execute_result"
    }
   ],
   "source": [
    "# 상품코드 기준으로 합치세요\n",
    "pd.merge(df1,df2,on='상품코드',how='right')"
   ]
  },
  {
   "cell_type": "code",
   "execution_count": null,
   "id": "264a7037-b34a-4fa8-84a8-17ddee006f7d",
   "metadata": {},
   "outputs": [],
   "source": [
    "# 문제4"
   ]
  },
  {
   "cell_type": "code",
   "execution_count": 65,
   "id": "52f4ea25-327f-4c18-8241-4f10dbf08bfa",
   "metadata": {},
   "outputs": [],
   "source": [
    "# 학생 데이터를 담은 DataFrame와 동아리 데이터를 담은 DataFrame를 만들기\n",
    "df1 = pd.DataFrame({'학번':[1,2,3],'이름':['지훈','서연','민지']})\n",
    "df2 = pd.DataFrame({'학번':[2,4],'동아리':['축구부','합창단']})"
   ]
  },
  {
   "cell_type": "code",
   "execution_count": 66,
   "id": "f81a38f2-39bb-428b-9298-d220a58fc27f",
   "metadata": {},
   "outputs": [
    {
     "data": {
      "text/html": [
       "<div>\n",
       "<style scoped>\n",
       "    .dataframe tbody tr th:only-of-type {\n",
       "        vertical-align: middle;\n",
       "    }\n",
       "\n",
       "    .dataframe tbody tr th {\n",
       "        vertical-align: top;\n",
       "    }\n",
       "\n",
       "    .dataframe thead th {\n",
       "        text-align: right;\n",
       "    }\n",
       "</style>\n",
       "<table border=\"1\" class=\"dataframe\">\n",
       "  <thead>\n",
       "    <tr style=\"text-align: right;\">\n",
       "      <th></th>\n",
       "      <th>학번</th>\n",
       "      <th>이름</th>\n",
       "      <th>동아리</th>\n",
       "    </tr>\n",
       "  </thead>\n",
       "  <tbody>\n",
       "    <tr>\n",
       "      <th>0</th>\n",
       "      <td>1</td>\n",
       "      <td>지훈</td>\n",
       "      <td>NaN</td>\n",
       "    </tr>\n",
       "    <tr>\n",
       "      <th>1</th>\n",
       "      <td>2</td>\n",
       "      <td>서연</td>\n",
       "      <td>축구부</td>\n",
       "    </tr>\n",
       "    <tr>\n",
       "      <th>2</th>\n",
       "      <td>3</td>\n",
       "      <td>민지</td>\n",
       "      <td>NaN</td>\n",
       "    </tr>\n",
       "    <tr>\n",
       "      <th>3</th>\n",
       "      <td>4</td>\n",
       "      <td>NaN</td>\n",
       "      <td>합창단</td>\n",
       "    </tr>\n",
       "  </tbody>\n",
       "</table>\n",
       "</div>"
      ],
      "text/plain": [
       "   학번   이름  동아리\n",
       "0   1   지훈  NaN\n",
       "1   2   서연  축구부\n",
       "2   3   민지  NaN\n",
       "3   4  NaN  합창단"
      ]
     },
     "execution_count": 66,
     "metadata": {},
     "output_type": "execute_result"
    }
   ],
   "source": [
    "# 학번 기준으로 합치세요\n",
    "pd.merge(df1,df2,on='학번',how='outer')"
   ]
  },
  {
   "cell_type": "markdown",
   "id": "5d6a9623-bb9b-411e-9b35-1fc13ef1aa96",
   "metadata": {},
   "source": [
    "데이터 합치기 (concat)"
   ]
  },
  {
   "cell_type": "code",
   "execution_count": null,
   "id": "4024620a-17b1-41f4-bf26-cb62e1a0b8cf",
   "metadata": {},
   "outputs": [],
   "source": [
    "# 문제1"
   ]
  },
  {
   "cell_type": "code",
   "execution_count": 74,
   "id": "0b5bd9c8-e92f-4ccc-b63e-bc2d5ac6f964",
   "metadata": {},
   "outputs": [],
   "source": [
    "# 사원 데이터를 담은 DataFrame와 부서 데이터를 담은 DataFrame를 만들기 \n",
    "df1 = pd.DataFrame({'사번':[1,2],'이름':['홍길동','임꺽정']})\n",
    "df2 = pd.DataFrame({'부서':['영업','개발']})\n"
   ]
  },
  {
   "cell_type": "code",
   "execution_count": 76,
   "id": "2477ae33-9820-490f-ae55-2dc569df42b5",
   "metadata": {},
   "outputs": [
    {
     "data": {
      "text/html": [
       "<div>\n",
       "<style scoped>\n",
       "    .dataframe tbody tr th:only-of-type {\n",
       "        vertical-align: middle;\n",
       "    }\n",
       "\n",
       "    .dataframe tbody tr th {\n",
       "        vertical-align: top;\n",
       "    }\n",
       "\n",
       "    .dataframe thead th {\n",
       "        text-align: right;\n",
       "    }\n",
       "</style>\n",
       "<table border=\"1\" class=\"dataframe\">\n",
       "  <thead>\n",
       "    <tr style=\"text-align: right;\">\n",
       "      <th></th>\n",
       "      <th>사번</th>\n",
       "      <th>이름</th>\n",
       "      <th>부서</th>\n",
       "    </tr>\n",
       "  </thead>\n",
       "  <tbody>\n",
       "    <tr>\n",
       "      <th>0</th>\n",
       "      <td>1</td>\n",
       "      <td>홍길동</td>\n",
       "      <td>영업</td>\n",
       "    </tr>\n",
       "    <tr>\n",
       "      <th>1</th>\n",
       "      <td>2</td>\n",
       "      <td>임꺽정</td>\n",
       "      <td>개발</td>\n",
       "    </tr>\n",
       "  </tbody>\n",
       "</table>\n",
       "</div>"
      ],
      "text/plain": [
       "   사번   이름  부서\n",
       "0   1  홍길동  영업\n",
       "1   2  임꺽정  개발"
      ]
     },
     "execution_count": 76,
     "metadata": {},
     "output_type": "execute_result"
    }
   ],
   "source": [
    "# 하나로 합치세요\n",
    "pd.concat( [df1, df2], axis=1 )"
   ]
  },
  {
   "cell_type": "code",
   "execution_count": null,
   "id": "46d23dc2-193b-42a3-aa94-c41d1d5f1826",
   "metadata": {},
   "outputs": [],
   "source": [
    "# 문제2"
   ]
  },
  {
   "cell_type": "code",
   "execution_count": 77,
   "id": "2efeb467-6aa0-4685-b8a3-481f307d4828",
   "metadata": {},
   "outputs": [],
   "source": [
    "# 세 개의 매출 데이터 DataFrame를 만들기 \n",
    "df1 = pd.DataFrame({'매출':[100,200]})\n",
    "df2 = pd.DataFrame({'매출':[150,250]})\n",
    "df3 = pd.DataFrame({'매출':[300,400]})"
   ]
  },
  {
   "cell_type": "code",
   "execution_count": 79,
   "id": "a0d3fcdc-c4be-44ff-90cc-0dc5c9a10cdb",
   "metadata": {},
   "outputs": [
    {
     "data": {
      "text/html": [
       "<div>\n",
       "<style scoped>\n",
       "    .dataframe tbody tr th:only-of-type {\n",
       "        vertical-align: middle;\n",
       "    }\n",
       "\n",
       "    .dataframe tbody tr th {\n",
       "        vertical-align: top;\n",
       "    }\n",
       "\n",
       "    .dataframe thead th {\n",
       "        text-align: right;\n",
       "    }\n",
       "</style>\n",
       "<table border=\"1\" class=\"dataframe\">\n",
       "  <thead>\n",
       "    <tr style=\"text-align: right;\">\n",
       "      <th></th>\n",
       "      <th>매출</th>\n",
       "    </tr>\n",
       "  </thead>\n",
       "  <tbody>\n",
       "    <tr>\n",
       "      <th>0</th>\n",
       "      <td>100</td>\n",
       "    </tr>\n",
       "    <tr>\n",
       "      <th>1</th>\n",
       "      <td>200</td>\n",
       "    </tr>\n",
       "    <tr>\n",
       "      <th>2</th>\n",
       "      <td>150</td>\n",
       "    </tr>\n",
       "    <tr>\n",
       "      <th>3</th>\n",
       "      <td>250</td>\n",
       "    </tr>\n",
       "    <tr>\n",
       "      <th>4</th>\n",
       "      <td>300</td>\n",
       "    </tr>\n",
       "    <tr>\n",
       "      <th>5</th>\n",
       "      <td>400</td>\n",
       "    </tr>\n",
       "  </tbody>\n",
       "</table>\n",
       "</div>"
      ],
      "text/plain": [
       "    매출\n",
       "0  100\n",
       "1  200\n",
       "2  150\n",
       "3  250\n",
       "4  300\n",
       "5  400"
      ]
     },
     "execution_count": 79,
     "metadata": {},
     "output_type": "execute_result"
    }
   ],
   "source": [
    "# 하나로 합치세요\n",
    "pd.concat( [df1, df2, df3] , ignore_index=True)"
   ]
  },
  {
   "cell_type": "code",
   "execution_count": null,
   "id": "166fb634-113c-451b-a9f5-27e76a67982b",
   "metadata": {},
   "outputs": [],
   "source": [
    "# 문제3"
   ]
  },
  {
   "cell_type": "code",
   "execution_count": 80,
   "id": "70e6109a-d965-4dac-8573-ef4301d15d1e",
   "metadata": {},
   "outputs": [],
   "source": [
    "# 두 개의 학생 점수 데이터를 담은 DataFrame를 만들기\n",
    "df1 = pd.DataFrame({'이름':['철수','영희'], '국어':[85,90]})\n",
    "df2 = pd.DataFrame({'이름':['민수','지연'], '수학':[78,92]})"
   ]
  },
  {
   "cell_type": "code",
   "execution_count": 82,
   "id": "ae47556e-ab47-4266-bc29-3e3e090098fd",
   "metadata": {},
   "outputs": [
    {
     "data": {
      "text/html": [
       "<div>\n",
       "<style scoped>\n",
       "    .dataframe tbody tr th:only-of-type {\n",
       "        vertical-align: middle;\n",
       "    }\n",
       "\n",
       "    .dataframe tbody tr th {\n",
       "        vertical-align: top;\n",
       "    }\n",
       "\n",
       "    .dataframe thead th {\n",
       "        text-align: right;\n",
       "    }\n",
       "</style>\n",
       "<table border=\"1\" class=\"dataframe\">\n",
       "  <thead>\n",
       "    <tr style=\"text-align: right;\">\n",
       "      <th></th>\n",
       "      <th>이름</th>\n",
       "      <th>국어</th>\n",
       "      <th>이름</th>\n",
       "      <th>수학</th>\n",
       "    </tr>\n",
       "  </thead>\n",
       "  <tbody>\n",
       "    <tr>\n",
       "      <th>0</th>\n",
       "      <td>철수</td>\n",
       "      <td>85</td>\n",
       "      <td>민수</td>\n",
       "      <td>78</td>\n",
       "    </tr>\n",
       "    <tr>\n",
       "      <th>1</th>\n",
       "      <td>영희</td>\n",
       "      <td>90</td>\n",
       "      <td>지연</td>\n",
       "      <td>92</td>\n",
       "    </tr>\n",
       "  </tbody>\n",
       "</table>\n",
       "</div>"
      ],
      "text/plain": [
       "   이름  국어  이름  수학\n",
       "0  철수  85  민수  78\n",
       "1  영희  90  지연  92"
      ]
     },
     "execution_count": 82,
     "metadata": {},
     "output_type": "execute_result"
    }
   ],
   "source": [
    "# 하나로 합치세요\n",
    "pd.concat([df1,df2,],axis=1)"
   ]
  },
  {
   "cell_type": "markdown",
   "id": "ade307ca-0d9a-4bbc-9999-aa6b0dbbd66f",
   "metadata": {},
   "source": [
    "데이터 재구성 (pivot)"
   ]
  },
  {
   "cell_type": "code",
   "execution_count": null,
   "id": "fc7bdf71-d00d-4874-9602-44fdbe319cca",
   "metadata": {},
   "outputs": [],
   "source": [
    "# 문제1"
   ]
  },
  {
   "cell_type": "code",
   "execution_count": 98,
   "id": "b2dca70a-ef3d-429d-9b9f-bbb9a3e188dc",
   "metadata": {},
   "outputs": [],
   "source": [
    "# 쇼핑몰 판매 데이터를 담은 DataFrame를 만들기 \n",
    "df = pd.DataFrame({\n",
    "    '카테고리': ['식품', '식품', '가전', '가전'],\n",
    "    '월': ['1월', '2월', '1월', '2월'],\n",
    "    '매출': [200, 250, 500, 550]\n",
    "})"
   ]
  },
  {
   "cell_type": "code",
   "execution_count": 99,
   "id": "434ce06d-38e3-4803-b112-ee7bcad33d0f",
   "metadata": {},
   "outputs": [
    {
     "name": "stdout",
     "output_type": "stream",
     "text": [
      "월      1월   2월\n",
      "카테고리          \n",
      "가전    500  550\n",
      "식품    200  250\n"
     ]
    }
   ],
   "source": [
    "# pivot을 이용해 카테고리별 월 매출을 출력하세요\n",
    "result = df.pivot(index='카테고리', columns='월', values='매출')\n",
    "print(result)"
   ]
  },
  {
   "cell_type": "code",
   "execution_count": null,
   "id": "fe50b9ed-b534-4b63-85d7-efd52d33ad13",
   "metadata": {},
   "outputs": [],
   "source": [
    "# 문제2"
   ]
  },
  {
   "cell_type": "code",
   "execution_count": 94,
   "id": "5fc6e6a4-5f64-4e59-a665-56d6b56617d9",
   "metadata": {},
   "outputs": [],
   "source": [
    "# 도서관 대출 데이터를 담은 DataFrame를 만들기\n",
    "df = pd.DataFrame({'도서관':['중앙','중앙','시립','시립'],\n",
    "                   '장르':['소설','과학','소설','과학'],\n",
    "                   '대출건수':[120,45,95,60]})"
   ]
  },
  {
   "cell_type": "code",
   "execution_count": 95,
   "id": "bacb676a-1c31-4bb8-a473-3dd31df65efd",
   "metadata": {},
   "outputs": [
    {
     "data": {
      "text/html": [
       "<div>\n",
       "<style scoped>\n",
       "    .dataframe tbody tr th:only-of-type {\n",
       "        vertical-align: middle;\n",
       "    }\n",
       "\n",
       "    .dataframe tbody tr th {\n",
       "        vertical-align: top;\n",
       "    }\n",
       "\n",
       "    .dataframe thead th {\n",
       "        text-align: right;\n",
       "    }\n",
       "</style>\n",
       "<table border=\"1\" class=\"dataframe\">\n",
       "  <thead>\n",
       "    <tr style=\"text-align: right;\">\n",
       "      <th>장르</th>\n",
       "      <th>과학</th>\n",
       "      <th>소설</th>\n",
       "    </tr>\n",
       "    <tr>\n",
       "      <th>도서관</th>\n",
       "      <th></th>\n",
       "      <th></th>\n",
       "    </tr>\n",
       "  </thead>\n",
       "  <tbody>\n",
       "    <tr>\n",
       "      <th>시립</th>\n",
       "      <td>60</td>\n",
       "      <td>95</td>\n",
       "    </tr>\n",
       "    <tr>\n",
       "      <th>중앙</th>\n",
       "      <td>45</td>\n",
       "      <td>120</td>\n",
       "    </tr>\n",
       "  </tbody>\n",
       "</table>\n",
       "</div>"
      ],
      "text/plain": [
       "장르   과학   소설\n",
       "도서관         \n",
       "시립   60   95\n",
       "중앙   45  120"
      ]
     },
     "execution_count": 95,
     "metadata": {},
     "output_type": "execute_result"
    }
   ],
   "source": [
    "# pivot을 이용해 도서관별 장르 대출 건수를 출력하세요\n",
    "df.pivot(index='도서관',columns='장르',values='대출건수')"
   ]
  },
  {
   "cell_type": "code",
   "execution_count": null,
   "id": "ecf0e620-c256-4aeb-a9fc-728952cc1071",
   "metadata": {},
   "outputs": [],
   "source": [
    "# 문제3"
   ]
  },
  {
   "cell_type": "code",
   "execution_count": 100,
   "id": "048df201-20a3-4dbd-8b74-c91c57292090",
   "metadata": {},
   "outputs": [],
   "source": [
    "# 호텔 예약 데이터를 담은 DataFrame를 만들기\n",
    "df = pd.DataFrame({'지점':['서울','서울','부산','부산'],\n",
    "                  '객실유형':['싱글룸','더블룸','싱글룸','더블룸'],\n",
    "                  '예약건수':[45,30,50,35]})"
   ]
  },
  {
   "cell_type": "code",
   "execution_count": 101,
   "id": "b387af17-d8a5-47d6-b428-ce259803878e",
   "metadata": {},
   "outputs": [
    {
     "data": {
      "text/html": [
       "<div>\n",
       "<style scoped>\n",
       "    .dataframe tbody tr th:only-of-type {\n",
       "        vertical-align: middle;\n",
       "    }\n",
       "\n",
       "    .dataframe tbody tr th {\n",
       "        vertical-align: top;\n",
       "    }\n",
       "\n",
       "    .dataframe thead th {\n",
       "        text-align: right;\n",
       "    }\n",
       "</style>\n",
       "<table border=\"1\" class=\"dataframe\">\n",
       "  <thead>\n",
       "    <tr style=\"text-align: right;\">\n",
       "      <th>객실유형</th>\n",
       "      <th>더블룸</th>\n",
       "      <th>싱글룸</th>\n",
       "    </tr>\n",
       "    <tr>\n",
       "      <th>지점</th>\n",
       "      <th></th>\n",
       "      <th></th>\n",
       "    </tr>\n",
       "  </thead>\n",
       "  <tbody>\n",
       "    <tr>\n",
       "      <th>부산</th>\n",
       "      <td>35</td>\n",
       "      <td>50</td>\n",
       "    </tr>\n",
       "    <tr>\n",
       "      <th>서울</th>\n",
       "      <td>30</td>\n",
       "      <td>45</td>\n",
       "    </tr>\n",
       "  </tbody>\n",
       "</table>\n",
       "</div>"
      ],
      "text/plain": [
       "객실유형  더블룸  싱글룸\n",
       "지점            \n",
       "부산     35   50\n",
       "서울     30   45"
      ]
     },
     "execution_count": 101,
     "metadata": {},
     "output_type": "execute_result"
    }
   ],
   "source": [
    "# pivot을 이용해 지점별 객실 유형 예약 건수를 출력하세요\n",
    "df.pivot(index='지점',columns='객실유형',values='예약건수')"
   ]
  },
  {
   "cell_type": "code",
   "execution_count": null,
   "id": "09f24eca-a581-429c-ac46-57f65827dff1",
   "metadata": {},
   "outputs": [],
   "source": []
  },
  {
   "cell_type": "code",
   "execution_count": null,
   "id": "9a5f99d0-76c6-40aa-a2f8-f950b12b22c7",
   "metadata": {},
   "outputs": [],
   "source": []
  },
  {
   "cell_type": "code",
   "execution_count": null,
   "id": "6b06b3aa-8997-44e1-8185-070485d62de3",
   "metadata": {},
   "outputs": [],
   "source": []
  },
  {
   "cell_type": "code",
   "execution_count": null,
   "id": "62cfa9be-3733-4855-be98-d07b13e01f00",
   "metadata": {},
   "outputs": [],
   "source": []
  },
  {
   "cell_type": "code",
   "execution_count": null,
   "id": "2962b31d-ce8a-4219-a401-2431f431cbeb",
   "metadata": {},
   "outputs": [],
   "source": []
  },
  {
   "cell_type": "code",
   "execution_count": null,
   "id": "c4f45345-da27-4831-b3b9-97dec5cc1a5b",
   "metadata": {},
   "outputs": [],
   "source": []
  }
 ],
 "metadata": {
  "kernelspec": {
   "display_name": "Python 3 (ipykernel)",
   "language": "python",
   "name": "python3"
  },
  "language_info": {
   "codemirror_mode": {
    "name": "ipython",
    "version": 3
   },
   "file_extension": ".py",
   "mimetype": "text/x-python",
   "name": "python",
   "nbconvert_exporter": "python",
   "pygments_lexer": "ipython3",
   "version": "3.10.18"
  }
 },
 "nbformat": 4,
 "nbformat_minor": 5
}
