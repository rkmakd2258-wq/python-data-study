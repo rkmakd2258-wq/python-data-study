{
 "cells": [
  {
   "cell_type": "code",
   "execution_count": 2,
   "id": "860b7ea6-0935-4057-b634-25a10e3dfa9d",
   "metadata": {},
   "outputs": [
    {
     "name": "stdout",
     "output_type": "stream",
     "text": [
      "0     5\n",
      "1    10\n",
      "2    15\n",
      "3    20\n",
      "dtype: int64\n"
     ]
    }
   ],
   "source": [
    "import pandas as pd\n",
    "s = pd.Series([5,10,15,20])\n",
    "print(s)\n",
    "# 시리즈 생성시 인덱스를 따로 설정하지 않으면\n",
    "# 자동으로 생성된다"
   ]
  },
  {
   "cell_type": "code",
   "execution_count": 3,
   "id": "33e30380-779e-4bc6-89a0-e94e057bb912",
   "metadata": {},
   "outputs": [
    {
     "name": "stdout",
     "output_type": "stream",
     "text": [
      "0    2\n",
      "1    4\n",
      "2    6\n",
      "3    8\n",
      "dtype: int64\n"
     ]
    }
   ],
   "source": [
    "import pandas as pd\n",
    "# pd.Series(값, 목록, [인덱스])\n",
    "s = pd.Series([2,4,6,8])\n",
    "print(s)"
   ]
  },
  {
   "cell_type": "code",
   "execution_count": 5,
   "id": "b8bfb6c1-3086-44c8-a3d8-d8436601896d",
   "metadata": {},
   "outputs": [
    {
     "data": {
      "text/plain": [
       "국어    70\n",
       "영어    80\n",
       "수학    90\n",
       "dtype: int64"
      ]
     },
     "execution_count": 5,
     "metadata": {},
     "output_type": "execute_result"
    }
   ],
   "source": [
    "# 시험 점수 데이터 만들기\n",
    "# pd.Series(값,[인덱스])\n",
    "s = pd.Series( [70,80,90], index=['국어', '영어','수학'])\n",
    "s"
   ]
  },
  {
   "cell_type": "code",
   "execution_count": 6,
   "id": "f1a929a0-16ac-44a9-979a-ac3fd0ebe1cc",
   "metadata": {},
   "outputs": [
    {
     "data": {
      "text/plain": [
       "np.int64(70)"
      ]
     },
     "execution_count": 6,
     "metadata": {},
     "output_type": "execute_result"
    }
   ],
   "source": [
    "# 국어 점수 조회\n",
    "s['국어']"
   ]
  },
  {
   "cell_type": "code",
   "execution_count": 8,
   "id": "83e958d5-bca3-4cae-9c6a-2378c5c10a03",
   "metadata": {},
   "outputs": [
    {
     "data": {
      "text/plain": [
       "국어    70\n",
       "영어    80\n",
       "수학    75\n",
       "dtype: int64"
      ]
     },
     "execution_count": 8,
     "metadata": {},
     "output_type": "execute_result"
    }
   ],
   "source": [
    "# 수학 점수 75로 바꾸기\n",
    "s.loc['수학'] = 75\n",
    "s"
   ]
  },
  {
   "cell_type": "code",
   "execution_count": 9,
   "id": "cb1cea1d-f15d-4408-a9ba-e55d5ff90ee4",
   "metadata": {},
   "outputs": [
    {
     "data": {
      "text/plain": [
       "봄     15\n",
       "여름    27\n",
       "가을    18\n",
       "dtype: int64"
      ]
     },
     "execution_count": 9,
     "metadata": {},
     "output_type": "execute_result"
    }
   ],
   "source": [
    "# 계절 평균 기온 데이터 만들기\n",
    "s = pd.Series( [15,27,18], index=['봄', '여름','가을'])\n",
    "s"
   ]
  },
  {
   "cell_type": "code",
   "execution_count": 10,
   "id": "4971f77f-3203-43a5-93b5-0b88c3f264b3",
   "metadata": {},
   "outputs": [
    {
     "data": {
      "text/plain": [
       "np.int64(15)"
      ]
     },
     "execution_count": 10,
     "metadata": {},
     "output_type": "execute_result"
    }
   ],
   "source": [
    "# 봄 기온을 조회하세요\n",
    "s['봄']"
   ]
  },
  {
   "cell_type": "code",
   "execution_count": 11,
   "id": "1e7c44da-5d37-411b-b163-c0a4dc33caad",
   "metadata": {},
   "outputs": [
    {
     "data": {
      "text/plain": [
       "봄     15\n",
       "여름    27\n",
       "가을    20\n",
       "dtype: int64"
      ]
     },
     "execution_count": 11,
     "metadata": {},
     "output_type": "execute_result"
    }
   ],
   "source": [
    "# 가을 기온을 20으로 수정\n",
    "s['가을'] = 20\n",
    "s"
   ]
  },
  {
   "cell_type": "code",
   "execution_count": 12,
   "id": "b8d36ac8-2c87-44f4-8872-3b9444901678",
   "metadata": {},
   "outputs": [
    {
     "data": {
      "text/plain": [
       "01-01    1000\n",
       "01-02    1200\n",
       "01-03    1300\n",
       "dtype: int64"
      ]
     },
     "execution_count": 12,
     "metadata": {},
     "output_type": "execute_result"
    }
   ],
   "source": [
    "# 일별 매출 데이터 만들기\n",
    "s = pd.Series([1000,1200,1300], index=['01-01', '01-02', '01-03'])\n",
    "s"
   ]
  },
  {
   "cell_type": "code",
   "execution_count": 13,
   "id": "3cb23dd9-d056-40ab-a533-77ecbb95ac9f",
   "metadata": {},
   "outputs": [
    {
     "data": {
      "text/plain": [
       "np.int64(1000)"
      ]
     },
     "execution_count": 13,
     "metadata": {},
     "output_type": "execute_result"
    }
   ],
   "source": [
    "# 1월 1일 매출을 조회하세요\n",
    "s['01-01']"
   ]
  },
  {
   "cell_type": "code",
   "execution_count": 15,
   "id": "c9e5d932-37b9-4b23-91b2-88fe7ccaf6bc",
   "metadata": {},
   "outputs": [
    {
     "data": {
      "text/plain": [
       "01-01    1000\n",
       "01-02    1250\n",
       "01-03    1300\n",
       "dtype: int64"
      ]
     },
     "execution_count": 15,
     "metadata": {},
     "output_type": "execute_result"
    }
   ],
   "source": [
    "# 1월 2일 매출을 1250으로 수정하세요\n",
    "s.loc['01-02'] = 1250\n",
    "s"
   ]
  },
  {
   "cell_type": "code",
   "execution_count": 16,
   "id": "a52ec65b-67d0-4dcc-b221-bf0c26872d3b",
   "metadata": {},
   "outputs": [
    {
     "data": {
      "text/plain": [
       "월    300\n",
       "화    400\n",
       "수    500\n",
       "dtype: int64"
      ]
     },
     "execution_count": 16,
     "metadata": {},
     "output_type": "execute_result"
    }
   ],
   "source": [
    "# 요일별 매출 데이터 만들기\n",
    "s = pd.Series([300,400,500], index = ['월', '화', '수'])\n",
    "s"
   ]
  },
  {
   "cell_type": "code",
   "execution_count": 17,
   "id": "d5dd63df-dc2e-4e99-9186-8133670a384d",
   "metadata": {},
   "outputs": [
    {
     "data": {
      "text/plain": [
       "np.int64(400)"
      ]
     },
     "execution_count": 17,
     "metadata": {},
     "output_type": "execute_result"
    }
   ],
   "source": [
    "# 화요일 매출 조회\n",
    "s.loc['화']"
   ]
  },
  {
   "cell_type": "code",
   "execution_count": 18,
   "id": "f41ec7fe-aa99-4b57-ba12-5911310a4784",
   "metadata": {},
   "outputs": [
    {
     "data": {
      "text/plain": [
       "월    300\n",
       "화    400\n",
       "수    550\n",
       "dtype: int64"
      ]
     },
     "execution_count": 18,
     "metadata": {},
     "output_type": "execute_result"
    }
   ],
   "source": [
    "# 수요일 매출 550으로 수정\n",
    "s['수'] = 550\n",
    "s"
   ]
  },
  {
   "cell_type": "code",
   "execution_count": 22,
   "id": "9352d439-430d-464f-a543-37b6ccfb25dd",
   "metadata": {},
   "outputs": [
    {
     "name": "stdout",
     "output_type": "stream",
     "text": [
      "RangeIndex(start=0, stop=3, step=1)\n",
      "Index(['name', 'score'], dtype='object')\n"
     ]
    }
   ],
   "source": [
    "data = { \"name\" : ['철수', '영희', '민수'], \n",
    "         \"score\" : [85, 90,78]}\n",
    "# 데이터를 담아서 데이터 프레이 생성\n",
    "df = pd.DataFrame(data)\n",
    "df\n",
    "print(df.index)\n",
    "print(df.columns)"
   ]
  },
  {
   "cell_type": "code",
   "execution_count": 21,
   "id": "54762d52-c2b8-4b9f-b810-f1fa6ba595d8",
   "metadata": {},
   "outputs": [
    {
     "data": {
      "text/html": [
       "<div>\n",
       "<style scoped>\n",
       "    .dataframe tbody tr th:only-of-type {\n",
       "        vertical-align: middle;\n",
       "    }\n",
       "\n",
       "    .dataframe tbody tr th {\n",
       "        vertical-align: top;\n",
       "    }\n",
       "\n",
       "    .dataframe thead th {\n",
       "        text-align: right;\n",
       "    }\n",
       "</style>\n",
       "<table border=\"1\" class=\"dataframe\">\n",
       "  <thead>\n",
       "    <tr style=\"text-align: right;\">\n",
       "      <th></th>\n",
       "      <th>day</th>\n",
       "      <th>sales</th>\n",
       "    </tr>\n",
       "  </thead>\n",
       "  <tbody>\n",
       "    <tr>\n",
       "      <th>0</th>\n",
       "      <td>월</td>\n",
       "      <td>1000</td>\n",
       "    </tr>\n",
       "    <tr>\n",
       "      <th>1</th>\n",
       "      <td>화</td>\n",
       "      <td>1200</td>\n",
       "    </tr>\n",
       "    <tr>\n",
       "      <th>2</th>\n",
       "      <td>수</td>\n",
       "      <td>900</td>\n",
       "    </tr>\n",
       "  </tbody>\n",
       "</table>\n",
       "</div>"
      ],
      "text/plain": [
       "  day  sales\n",
       "0   월   1000\n",
       "1   화   1200\n",
       "2   수    900"
      ]
     },
     "execution_count": 21,
     "metadata": {},
     "output_type": "execute_result"
    }
   ],
   "source": [
    "# 요일별 매출 데이터\n",
    "data = { \"day\" : ['월', '화', '수'], \n",
    "         \"sales\" : [1000,1200,900]}\n",
    "df = pd.DataFrame(data)\n",
    "df"
   ]
  },
  {
   "cell_type": "code",
   "execution_count": 25,
   "id": "f930134f-7e16-4ee7-893e-045870bfd910",
   "metadata": {},
   "outputs": [
    {
     "data": {
      "text/html": [
       "<div>\n",
       "<style scoped>\n",
       "    .dataframe tbody tr th:only-of-type {\n",
       "        vertical-align: middle;\n",
       "    }\n",
       "\n",
       "    .dataframe tbody tr th {\n",
       "        vertical-align: top;\n",
       "    }\n",
       "\n",
       "    .dataframe thead th {\n",
       "        text-align: right;\n",
       "    }\n",
       "</style>\n",
       "<table border=\"1\" class=\"dataframe\">\n",
       "  <thead>\n",
       "    <tr style=\"text-align: right;\">\n",
       "      <th></th>\n",
       "      <th>판매량</th>\n",
       "      <th>재고</th>\n",
       "    </tr>\n",
       "  </thead>\n",
       "  <tbody>\n",
       "    <tr>\n",
       "      <th>사과</th>\n",
       "      <td>30</td>\n",
       "      <td>10</td>\n",
       "    </tr>\n",
       "    <tr>\n",
       "      <th>배</th>\n",
       "      <td>40</td>\n",
       "      <td>20</td>\n",
       "    </tr>\n",
       "  </tbody>\n",
       "</table>\n",
       "</div>"
      ],
      "text/plain": [
       "    판매량  재고\n",
       "사과   30  10\n",
       "배    40  20"
      ]
     },
     "execution_count": 25,
     "metadata": {},
     "output_type": "execute_result"
    }
   ],
   "source": [
    "# 과일 판매량 데이터 만들기(dic 또는 list)\n",
    "data = np.array([ [30,10],[40,20] ])\n",
    "data\n",
    "# 데이터를 담아서 프레임 생성\n",
    "df = pd.DataFrame(data, \n",
    "                 index=['사과','배'],\n",
    "                        columns=['판매량', '재고'])\n",
    "df"
   ]
  },
  {
   "cell_type": "code",
   "execution_count": 30,
   "id": "e2136f72-38e3-48de-a7c8-5edc7b117eb9",
   "metadata": {},
   "outputs": [
    {
     "data": {
      "text/html": [
       "<div>\n",
       "<style scoped>\n",
       "    .dataframe tbody tr th:only-of-type {\n",
       "        vertical-align: middle;\n",
       "    }\n",
       "\n",
       "    .dataframe tbody tr th {\n",
       "        vertical-align: top;\n",
       "    }\n",
       "\n",
       "    .dataframe thead th {\n",
       "        text-align: right;\n",
       "    }\n",
       "</style>\n",
       "<table border=\"1\" class=\"dataframe\">\n",
       "  <thead>\n",
       "    <tr style=\"text-align: right;\">\n",
       "      <th></th>\n",
       "      <th>판매량</th>\n",
       "      <th>재고</th>\n",
       "      <th>가격</th>\n",
       "    </tr>\n",
       "  </thead>\n",
       "  <tbody>\n",
       "    <tr>\n",
       "      <th>사과</th>\n",
       "      <td>30</td>\n",
       "      <td>10</td>\n",
       "      <td>1000</td>\n",
       "    </tr>\n",
       "    <tr>\n",
       "      <th>배</th>\n",
       "      <td>40</td>\n",
       "      <td>20</td>\n",
       "      <td>1200</td>\n",
       "    </tr>\n",
       "  </tbody>\n",
       "</table>\n",
       "</div>"
      ],
      "text/plain": [
       "    판매량  재고    가격\n",
       "사과   30  10  1000\n",
       "배    40  20  1200"
      ]
     },
     "execution_count": 30,
     "metadata": {},
     "output_type": "execute_result"
    }
   ],
   "source": [
    "# 사과 판매량\n",
    "df.loc['사과','판매량']\n",
    "\n",
    "# 새로운 열 '가격'을 추가하고, 사과는 1000월,배는 1200원으로 입력\n",
    "df.insert(2, '가격', [1000, 1200])\n",
    "df"
   ]
  },
  {
   "cell_type": "code",
   "execution_count": 31,
   "id": "ad4dfdad-d9bd-4b27-9ca6-9c8404835165",
   "metadata": {},
   "outputs": [
    {
     "data": {
      "text/html": [
       "<div>\n",
       "<style scoped>\n",
       "    .dataframe tbody tr th:only-of-type {\n",
       "        vertical-align: middle;\n",
       "    }\n",
       "\n",
       "    .dataframe tbody tr th {\n",
       "        vertical-align: top;\n",
       "    }\n",
       "\n",
       "    .dataframe thead th {\n",
       "        text-align: right;\n",
       "    }\n",
       "</style>\n",
       "<table border=\"1\" class=\"dataframe\">\n",
       "  <thead>\n",
       "    <tr style=\"text-align: right;\">\n",
       "      <th></th>\n",
       "      <th>인구</th>\n",
       "      <th>면적</th>\n",
       "    </tr>\n",
       "  </thead>\n",
       "  <tbody>\n",
       "    <tr>\n",
       "      <th>서울</th>\n",
       "      <td>950</td>\n",
       "      <td>1200</td>\n",
       "    </tr>\n",
       "    <tr>\n",
       "      <th>부산</th>\n",
       "      <td>500</td>\n",
       "      <td>800</td>\n",
       "    </tr>\n",
       "  </tbody>\n",
       "</table>\n",
       "</div>"
      ],
      "text/plain": [
       "     인구    면적\n",
       "서울  950  1200\n",
       "부산  500   800"
      ]
     },
     "execution_count": 31,
     "metadata": {},
     "output_type": "execute_result"
    }
   ],
   "source": [
    "# 도시 데이터 만들기\n",
    "data = np.array([ [950, 1200],[500,800] ])\n",
    "data\n",
    "df = pd.DataFrame(data, \n",
    "                 index=['서울', '부산'],\n",
    "                        columns=['인구','면적'])\n",
    "df"
   ]
  },
  {
   "cell_type": "code",
   "execution_count": 33,
   "id": "b7f63aae-dab9-4320-bcb9-2dea94fbc7e0",
   "metadata": {},
   "outputs": [
    {
     "data": {
      "text/html": [
       "<div>\n",
       "<style scoped>\n",
       "    .dataframe tbody tr th:only-of-type {\n",
       "        vertical-align: middle;\n",
       "    }\n",
       "\n",
       "    .dataframe tbody tr th {\n",
       "        vertical-align: top;\n",
       "    }\n",
       "\n",
       "    .dataframe thead th {\n",
       "        text-align: right;\n",
       "    }\n",
       "</style>\n",
       "<table border=\"1\" class=\"dataframe\">\n",
       "  <thead>\n",
       "    <tr style=\"text-align: right;\">\n",
       "      <th></th>\n",
       "      <th>인구</th>\n",
       "      <th>면적</th>\n",
       "      <th>특산물</th>\n",
       "    </tr>\n",
       "  </thead>\n",
       "  <tbody>\n",
       "    <tr>\n",
       "      <th>서울</th>\n",
       "      <td>950</td>\n",
       "      <td>1200</td>\n",
       "      <td>김치</td>\n",
       "    </tr>\n",
       "    <tr>\n",
       "      <th>부산</th>\n",
       "      <td>500</td>\n",
       "      <td>800</td>\n",
       "      <td>어묵</td>\n",
       "    </tr>\n",
       "  </tbody>\n",
       "</table>\n",
       "</div>"
      ],
      "text/plain": [
       "     인구    면적 특산물\n",
       "서울  950  1200  김치\n",
       "부산  500   800  어묵"
      ]
     },
     "execution_count": 33,
     "metadata": {},
     "output_type": "execute_result"
    }
   ],
   "source": [
    "# 서울 면적 조회\n",
    "df.loc['서울','면적']\n",
    "\n",
    "# 새로운 열 '특산물' 추가, 서울은 '김치', 부산은 '어묵'으로 입력\n",
    "df.insert(2, '특산물', ['김치','어묵'])\n",
    "df"
   ]
  },
  {
   "cell_type": "code",
   "execution_count": 38,
   "id": "1654c11c-426d-416f-b484-8605ea38805c",
   "metadata": {},
   "outputs": [
    {
     "data": {
      "text/html": [
       "<div>\n",
       "<style scoped>\n",
       "    .dataframe tbody tr th:only-of-type {\n",
       "        vertical-align: middle;\n",
       "    }\n",
       "\n",
       "    .dataframe tbody tr th {\n",
       "        vertical-align: top;\n",
       "    }\n",
       "\n",
       "    .dataframe thead th {\n",
       "        text-align: right;\n",
       "    }\n",
       "</style>\n",
       "<table border=\"1\" class=\"dataframe\">\n",
       "  <thead>\n",
       "    <tr style=\"text-align: right;\">\n",
       "      <th></th>\n",
       "      <th>가격</th>\n",
       "      <th>제목</th>\n",
       "    </tr>\n",
       "  </thead>\n",
       "  <tbody>\n",
       "    <tr>\n",
       "      <th>책1</th>\n",
       "      <td>15000</td>\n",
       "      <td>홍길동전</td>\n",
       "    </tr>\n",
       "    <tr>\n",
       "      <th>책2</th>\n",
       "      <td>20000</td>\n",
       "      <td>해리포터</td>\n",
       "    </tr>\n",
       "  </tbody>\n",
       "</table>\n",
       "</div>"
      ],
      "text/plain": [
       "       가격    제목\n",
       "책1  15000  홍길동전\n",
       "책2  20000  해리포터"
      ]
     },
     "execution_count": 38,
     "metadata": {},
     "output_type": "execute_result"
    }
   ],
   "source": [
    "# 도서 데이터 만들기\n",
    "data = np.array([ [15000,'홍길동전'],[20000,'해리포터'] ])\n",
    "data\n",
    "df = pd.DataFrame(data, \n",
    "                 index=['책1','책2'],\n",
    "                        columns=['가격','제목'])\n",
    "df"
   ]
  },
  {
   "cell_type": "code",
   "execution_count": 39,
   "id": "475f2da0-e557-49e6-ab69-76f9ec053bae",
   "metadata": {},
   "outputs": [
    {
     "data": {
      "text/html": [
       "<div>\n",
       "<style scoped>\n",
       "    .dataframe tbody tr th:only-of-type {\n",
       "        vertical-align: middle;\n",
       "    }\n",
       "\n",
       "    .dataframe tbody tr th {\n",
       "        vertical-align: top;\n",
       "    }\n",
       "\n",
       "    .dataframe thead th {\n",
       "        text-align: right;\n",
       "    }\n",
       "</style>\n",
       "<table border=\"1\" class=\"dataframe\">\n",
       "  <thead>\n",
       "    <tr style=\"text-align: right;\">\n",
       "      <th></th>\n",
       "      <th>가격</th>\n",
       "      <th>저자</th>\n",
       "      <th>제목</th>\n",
       "    </tr>\n",
       "  </thead>\n",
       "  <tbody>\n",
       "    <tr>\n",
       "      <th>책1</th>\n",
       "      <td>15000</td>\n",
       "      <td>허균</td>\n",
       "      <td>홍길동전</td>\n",
       "    </tr>\n",
       "    <tr>\n",
       "      <th>책2</th>\n",
       "      <td>20000</td>\n",
       "      <td>J.K. 롤링</td>\n",
       "      <td>해리포터</td>\n",
       "    </tr>\n",
       "  </tbody>\n",
       "</table>\n",
       "</div>"
      ],
      "text/plain": [
       "       가격       저자    제목\n",
       "책1  15000       허균  홍길동전\n",
       "책2  20000  J.K. 롤링  해리포터"
      ]
     },
     "execution_count": 39,
     "metadata": {},
     "output_type": "execute_result"
    }
   ],
   "source": [
    "# 책2의 가격 조회\n",
    "df.loc['책2','가격']\n",
    "\n",
    "# 새로운 열 '저자' 추가, 책1은 '허균', 책2는 'J.K. 롤링'으로 입력\n",
    "# insert(위치, 컬럼, 리스트)\n",
    "df.insert(1, '저자',['허균','J.K. 롤링'])\n",
    "df"
   ]
  },
  {
   "cell_type": "code",
   "execution_count": 43,
   "id": "0e59cb1b-73e9-45e0-b9f0-de6b11aa9e5c",
   "metadata": {},
   "outputs": [
    {
     "data": {
      "text/html": [
       "<div>\n",
       "<style scoped>\n",
       "    .dataframe tbody tr th:only-of-type {\n",
       "        vertical-align: middle;\n",
       "    }\n",
       "\n",
       "    .dataframe tbody tr th {\n",
       "        vertical-align: top;\n",
       "    }\n",
       "\n",
       "    .dataframe thead th {\n",
       "        text-align: right;\n",
       "    }\n",
       "</style>\n",
       "<table border=\"1\" class=\"dataframe\">\n",
       "  <thead>\n",
       "    <tr style=\"text-align: right;\">\n",
       "      <th></th>\n",
       "      <th>평점</th>\n",
       "      <th>관객수</th>\n",
       "    </tr>\n",
       "  </thead>\n",
       "  <tbody>\n",
       "    <tr>\n",
       "      <th>기생충</th>\n",
       "      <td>9.0</td>\n",
       "      <td>14000.0</td>\n",
       "    </tr>\n",
       "    <tr>\n",
       "      <th>인터스텔라</th>\n",
       "      <td>8.2</td>\n",
       "      <td>9500.0</td>\n",
       "    </tr>\n",
       "  </tbody>\n",
       "</table>\n",
       "</div>"
      ],
      "text/plain": [
       "        평점      관객수\n",
       "기생충    9.0  14000.0\n",
       "인터스텔라  8.2   9500.0"
      ]
     },
     "execution_count": 43,
     "metadata": {},
     "output_type": "execute_result"
    }
   ],
   "source": [
    "# 영화 데이터 만들기\n",
    "data = np.array([ [9.0,14000],[8.2,9500] ])\n",
    "data\n",
    "df = pd.DataFrame(data, \n",
    "                 index=['기생충','인터스텔라'],\n",
    "                 columns=['평점','관객수'])\n",
    "df"
   ]
  },
  {
   "cell_type": "code",
   "execution_count": 44,
   "id": "39cdf676-ed8f-49f6-936e-db82456901d0",
   "metadata": {},
   "outputs": [
    {
     "data": {
      "text/html": [
       "<div>\n",
       "<style scoped>\n",
       "    .dataframe tbody tr th:only-of-type {\n",
       "        vertical-align: middle;\n",
       "    }\n",
       "\n",
       "    .dataframe tbody tr th {\n",
       "        vertical-align: top;\n",
       "    }\n",
       "\n",
       "    .dataframe thead th {\n",
       "        text-align: right;\n",
       "    }\n",
       "</style>\n",
       "<table border=\"1\" class=\"dataframe\">\n",
       "  <thead>\n",
       "    <tr style=\"text-align: right;\">\n",
       "      <th></th>\n",
       "      <th>평점</th>\n",
       "    </tr>\n",
       "  </thead>\n",
       "  <tbody>\n",
       "    <tr>\n",
       "      <th>기생충</th>\n",
       "      <td>9.0</td>\n",
       "    </tr>\n",
       "    <tr>\n",
       "      <th>인터스텔라</th>\n",
       "      <td>8.2</td>\n",
       "    </tr>\n",
       "  </tbody>\n",
       "</table>\n",
       "</div>"
      ],
      "text/plain": [
       "        평점\n",
       "기생충    9.0\n",
       "인터스텔라  8.2"
      ]
     },
     "execution_count": 44,
     "metadata": {},
     "output_type": "execute_result"
    }
   ],
   "source": [
    "# 기생충 평점 조회\n",
    "df.loc['기생충','평점']\n",
    "\n",
    "# '관객수'열 삭제\n",
    "df['관객수']\n",
    "del df['관객수']\n",
    "df"
   ]
  },
  {
   "cell_type": "code",
   "execution_count": 49,
   "id": "affe4f62-c7b7-4efd-9fd8-33b9190ab07b",
   "metadata": {},
   "outputs": [
    {
     "data": {
      "text/html": [
       "<div>\n",
       "<style scoped>\n",
       "    .dataframe tbody tr th:only-of-type {\n",
       "        vertical-align: middle;\n",
       "    }\n",
       "\n",
       "    .dataframe tbody tr th {\n",
       "        vertical-align: top;\n",
       "    }\n",
       "\n",
       "    .dataframe thead th {\n",
       "        text-align: right;\n",
       "    }\n",
       "</style>\n",
       "<table border=\"1\" class=\"dataframe\">\n",
       "  <thead>\n",
       "    <tr style=\"text-align: right;\">\n",
       "      <th></th>\n",
       "      <th>0</th>\n",
       "    </tr>\n",
       "  </thead>\n",
       "  <tbody>\n",
       "    <tr>\n",
       "      <th>국어</th>\n",
       "      <td>80</td>\n",
       "    </tr>\n",
       "    <tr>\n",
       "      <th>영어</th>\n",
       "      <td>90</td>\n",
       "    </tr>\n",
       "    <tr>\n",
       "      <th>수학</th>\n",
       "      <td>75</td>\n",
       "    </tr>\n",
       "    <tr>\n",
       "      <th>과학</th>\n",
       "      <td>85</td>\n",
       "    </tr>\n",
       "  </tbody>\n",
       "</table>\n",
       "</div>"
      ],
      "text/plain": [
       "     0\n",
       "국어  80\n",
       "영어  90\n",
       "수학  75\n",
       "과학  85"
      ]
     },
     "execution_count": 49,
     "metadata": {},
     "output_type": "execute_result"
    }
   ],
   "source": [
    "# 학생 점수 데이터 만들기\n",
    "s = pd.DataFrame([80,90,75,85], index=['국어','영어','수학','과학'],)\n",
    "s\n",
    "# 자주 사용하는 통계 함수 : sum mean max min\n",
    "# numpy의 배열, pandas의 시리즈와 데이터프레일 모두 사용 가능"
   ]
  },
  {
   "cell_type": "code",
   "execution_count": 50,
   "id": "02df5b7c-58ea-422b-a1fb-6f3cbc8e677d",
   "metadata": {},
   "outputs": [
    {
     "name": "stdout",
     "output_type": "stream",
     "text": [
      "합계: 0    330\n",
      "dtype: int64\n",
      "평균: 0    82.5\n",
      "dtype: float64\n",
      "최고점수: 0    90\n",
      "dtype: int64\n",
      "최소점수: 0    75\n",
      "dtype: int64\n"
     ]
    }
   ],
   "source": [
    "print('합계:', s.sum())\n",
    "print('평균:', s.mean())\n",
    "print('최고점수:', s.max())\n",
    "print('최소점수:', s.min())"
   ]
  },
  {
   "cell_type": "code",
   "execution_count": null,
   "id": "5da7e3df-2d62-46ba-b077-e5761b11db10",
   "metadata": {},
   "outputs": [],
   "source": [
    "# 요일별 기온 데이터\n",
    "s = Series([2,5,-1,0,7,-3,4]"
   ]
  },
  {
   "cell_type": "code",
   "execution_count": 51,
   "id": "40065be0-db94-4bf5-a246-19f4ebedf9d6",
   "metadata": {},
   "outputs": [
    {
     "data": {
      "text/html": [
       "<div>\n",
       "<style scoped>\n",
       "    .dataframe tbody tr th:only-of-type {\n",
       "        vertical-align: middle;\n",
       "    }\n",
       "\n",
       "    .dataframe tbody tr th {\n",
       "        vertical-align: top;\n",
       "    }\n",
       "\n",
       "    .dataframe thead th {\n",
       "        text-align: right;\n",
       "    }\n",
       "</style>\n",
       "<table border=\"1\" class=\"dataframe\">\n",
       "  <thead>\n",
       "    <tr style=\"text-align: right;\">\n",
       "      <th></th>\n",
       "      <th>관객수</th>\n",
       "      <th>평점</th>\n",
       "    </tr>\n",
       "  </thead>\n",
       "  <tbody>\n",
       "    <tr>\n",
       "      <th>기생충</th>\n",
       "      <td>12000.0</td>\n",
       "      <td>9.0</td>\n",
       "    </tr>\n",
       "    <tr>\n",
       "      <th>인터스텔라</th>\n",
       "      <td>8000.0</td>\n",
       "      <td>8.5</td>\n",
       "    </tr>\n",
       "    <tr>\n",
       "      <th>아바타</th>\n",
       "      <td>15000.0</td>\n",
       "      <td>9.3</td>\n",
       "    </tr>\n",
       "  </tbody>\n",
       "</table>\n",
       "</div>"
      ],
      "text/plain": [
       "           관객수   평점\n",
       "기생충    12000.0  9.0\n",
       "인터스텔라   8000.0  8.5\n",
       "아바타    15000.0  9.3"
      ]
     },
     "execution_count": 51,
     "metadata": {},
     "output_type": "execute_result"
    }
   ],
   "source": [
    "# 영화 데이터 만들기\n",
    "data = np.array([ [12000,9.0],[8000,8.5],[15000,9.3] ])\n",
    "# 프레임 생성\n",
    "df = pd.DataFrame(data,\n",
    "                  index=['기생충','인터스텔라','아바타'],\n",
    "                  columns=['관객수','평점'])\n",
    "df"
   ]
  },
  {
   "cell_type": "code",
   "execution_count": 57,
   "id": "d319ccb4-d8b8-4538-8605-c72543c98415",
   "metadata": {},
   "outputs": [
    {
     "data": {
      "text/html": [
       "<div>\n",
       "<style scoped>\n",
       "    .dataframe tbody tr th:only-of-type {\n",
       "        vertical-align: middle;\n",
       "    }\n",
       "\n",
       "    .dataframe tbody tr th {\n",
       "        vertical-align: top;\n",
       "    }\n",
       "\n",
       "    .dataframe thead th {\n",
       "        text-align: right;\n",
       "    }\n",
       "</style>\n",
       "<table border=\"1\" class=\"dataframe\">\n",
       "  <thead>\n",
       "    <tr style=\"text-align: right;\">\n",
       "      <th></th>\n",
       "      <th>관객수</th>\n",
       "      <th>평점</th>\n",
       "    </tr>\n",
       "  </thead>\n",
       "  <tbody>\n",
       "    <tr>\n",
       "      <th>기생충</th>\n",
       "      <td>12000.0</td>\n",
       "      <td>9.0</td>\n",
       "    </tr>\n",
       "    <tr>\n",
       "      <th>아바타</th>\n",
       "      <td>15000.0</td>\n",
       "      <td>9.3</td>\n",
       "    </tr>\n",
       "  </tbody>\n",
       "</table>\n",
       "</div>"
      ],
      "text/plain": [
       "         관객수   평점\n",
       "기생충  12000.0  9.0\n",
       "아바타  15000.0  9.3"
      ]
     },
     "execution_count": 57,
     "metadata": {},
     "output_type": "execute_result"
    }
   ],
   "source": [
    "# 모든 영화의 관객수에 1000명 추가\n",
    "df['관객수'] + 1000\n",
    "\n",
    "# 평점이 9.0 이상인 영화만 조회\n",
    "df[df['평점']>=9.0]"
   ]
  },
  {
   "cell_type": "code",
   "execution_count": 71,
   "id": "0982f063-ff81-42d3-9ff2-7461563c43e6",
   "metadata": {},
   "outputs": [
    {
     "data": {
      "text/html": [
       "<div>\n",
       "<style scoped>\n",
       "    .dataframe tbody tr th:only-of-type {\n",
       "        vertical-align: middle;\n",
       "    }\n",
       "\n",
       "    .dataframe tbody tr th {\n",
       "        vertical-align: top;\n",
       "    }\n",
       "\n",
       "    .dataframe thead th {\n",
       "        text-align: right;\n",
       "    }\n",
       "</style>\n",
       "<table border=\"1\" class=\"dataframe\">\n",
       "  <thead>\n",
       "    <tr style=\"text-align: right;\">\n",
       "      <th></th>\n",
       "      <th>1월 매출</th>\n",
       "      <th>2월 매출</th>\n",
       "    </tr>\n",
       "  </thead>\n",
       "  <tbody>\n",
       "    <tr>\n",
       "      <th>치마</th>\n",
       "      <td>25000</td>\n",
       "      <td>30000</td>\n",
       "    </tr>\n",
       "    <tr>\n",
       "      <th>바지</th>\n",
       "      <td>40000</td>\n",
       "      <td>15000</td>\n",
       "    </tr>\n",
       "  </tbody>\n",
       "</table>\n",
       "</div>"
      ],
      "text/plain": [
       "    1월 매출  2월 매출\n",
       "치마  25000  30000\n",
       "바지  40000  15000"
      ]
     },
     "execution_count": 71,
     "metadata": {},
     "output_type": "execute_result"
    }
   ],
   "source": [
    "# 상품 매출 데이터 만들기\n",
    "data = np.array([ [25000,30000],[40000,15000] ])\n",
    "# 프레임 생성\n",
    "df = pd.DataFrame(data,\n",
    "                  index=['치마','바지'],\n",
    "                  columns=['1월 매출','2월 매출'])\n",
    "df"
   ]
  },
  {
   "cell_type": "code",
   "execution_count": 78,
   "id": "8117eb10-7c3a-4c43-b376-eb0ff247ce25",
   "metadata": {},
   "outputs": [
    {
     "name": "stdout",
     "output_type": "stream",
     "text": [
      "치마    25000\n",
      "바지    40000\n",
      "Name: 1월 매출, dtype: int64\n",
      "치마    30000\n",
      "바지    15000\n",
      "Name: 2월 매출, dtype: int64\n",
      "치마    55000\n",
      "바지    55000\n",
      "dtype: int64\n",
      "Index(['치마', '바지'], dtype='object')\n",
      "Index(['치마', '바지'], dtype='object')\n"
     ]
    },
    {
     "data": {
      "text/html": [
       "<div>\n",
       "<style scoped>\n",
       "    .dataframe tbody tr th:only-of-type {\n",
       "        vertical-align: middle;\n",
       "    }\n",
       "\n",
       "    .dataframe tbody tr th {\n",
       "        vertical-align: top;\n",
       "    }\n",
       "\n",
       "    .dataframe thead th {\n",
       "        text-align: right;\n",
       "    }\n",
       "</style>\n",
       "<table border=\"1\" class=\"dataframe\">\n",
       "  <thead>\n",
       "    <tr style=\"text-align: right;\">\n",
       "      <th></th>\n",
       "      <th>1월 매출</th>\n",
       "      <th>2월 매출</th>\n",
       "      <th>합계</th>\n",
       "      <th>합계(만원)</th>\n",
       "    </tr>\n",
       "  </thead>\n",
       "  <tbody>\n",
       "    <tr>\n",
       "      <th>치마</th>\n",
       "      <td>25000</td>\n",
       "      <td>30000</td>\n",
       "      <td>55000</td>\n",
       "      <td>5.5</td>\n",
       "    </tr>\n",
       "    <tr>\n",
       "      <th>바지</th>\n",
       "      <td>40000</td>\n",
       "      <td>15000</td>\n",
       "      <td>55000</td>\n",
       "      <td>5.5</td>\n",
       "    </tr>\n",
       "  </tbody>\n",
       "</table>\n",
       "</div>"
      ],
      "text/plain": [
       "    1월 매출  2월 매출     합계  합계(만원)\n",
       "치마  25000  30000  55000     5.5\n",
       "바지  40000  15000  55000     5.5"
      ]
     },
     "execution_count": 78,
     "metadata": {},
     "output_type": "execute_result"
    }
   ],
   "source": [
    "# 새로운 열 '합계'를 추가하여 1월과 2월 매출의 합을 구하세요.\n",
    "# 1월 매출\n",
    "print(df['1월 매출'])\n",
    "# 2월 매출\n",
    "print(df['2월 매출'])\n",
    "# 합\n",
    "# Series + Series\n",
    "# 시리즈끼리 더하면, 인덱스를 기준으로 합계가 나옴\n",
    "print(df['1월 매출'] + df['2월 매출']) # 결과는 시리즈\n",
    "print(df['1월 매출'].index)\n",
    "print(df['2월 매출'].index)\n",
    "# 새로운 열 추가\n",
    "df['합계'] = df['1월 매출'] + df['2월 매출']\n",
    "df\n",
    "\n",
    "# '합계'를 만원 단위로 바꾼 새로운 열 '합계(만원)'을 추가하세요.\n",
    "df['합계(만원)'] = df['합계']/10000\n",
    "df"
   ]
  },
  {
   "cell_type": "code",
   "execution_count": null,
   "id": "9babb0f5-a622-494b-a69b-00882d46e565",
   "metadata": {},
   "outputs": [],
   "source": [
    "# "
   ]
  }
 ],
 "metadata": {
  "kernelspec": {
   "display_name": "Python 3 (ipykernel)",
   "language": "python",
   "name": "python3"
  },
  "language_info": {
   "codemirror_mode": {
    "name": "ipython",
    "version": 3
   },
   "file_extension": ".py",
   "mimetype": "text/x-python",
   "name": "python",
   "nbconvert_exporter": "python",
   "pygments_lexer": "ipython3",
   "version": "3.10.18"
  }
 },
 "nbformat": 4,
 "nbformat_minor": 5
}
