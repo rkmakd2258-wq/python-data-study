{
 "cells": [
  {
   "cell_type": "markdown",
   "id": "e4fd967c-ceb3-4642-85e3-b993bb052228",
   "metadata": {},
   "source": [
    "### 7. 데이터 합치기와 재구성"
   ]
  },
  {
   "cell_type": "markdown",
   "id": "e75dfe01-777b-4e8a-960e-f2f6d315a4ae",
   "metadata": {},
   "source": [
    "### 7.1 멀티 인덱스"
   ]
  },
  {
   "cell_type": "code",
   "execution_count": 1,
   "id": "f2f7fad3-27dd-43bf-9102-94a6a5317fef",
   "metadata": {},
   "outputs": [],
   "source": [
    "#  모듈 불러오기\n",
    "import numpy as np\n",
    "import pandas as pd"
   ]
  },
  {
   "cell_type": "markdown",
   "id": "bae2581b-5fcf-425c-98b0-60fa1b3f8886",
   "metadata": {},
   "source": [
    "Series의 멀티 인덱스"
   ]
  },
  {
   "cell_type": "code",
   "execution_count": 3,
   "id": "fa64c78c-b947-4ca4-953c-0aee5951ff7b",
   "metadata": {},
   "outputs": [],
   "source": [
    "# 학생 점수 시리즈로 생성\n",
    "# 인덱스는 단일x, 멀티o\n",
    "s = pd.Series([ 85, 90, 78, 92, 88, 75 ], \n",
    "              index=[ ['1학년','1학년','1학년','2학년','2학년','2학년'],\n",
    "                      ['a반','a반','b반','a반','b반','b반'] ]\n",
    "             )"
   ]
  },
  {
   "cell_type": "code",
   "execution_count": 4,
   "id": "55a3d1bd-c6ea-48b6-851c-7656b1b123d6",
   "metadata": {},
   "outputs": [
    {
     "data": {
      "text/plain": [
       "1학년  a반    85\n",
       "     a반    90\n",
       "     b반    78\n",
       "2학년  a반    92\n",
       "     b반    88\n",
       "     b반    75\n",
       "dtype: int64"
      ]
     },
     "execution_count": 4,
     "metadata": {},
     "output_type": "execute_result"
    }
   ],
   "source": [
    "s"
   ]
  },
  {
   "cell_type": "markdown",
   "id": "92d70355-e54a-4a32-82dd-1f04ef4734fa",
   "metadata": {},
   "source": [
    "인덱스로 값 꺼내기"
   ]
  },
  {
   "cell_type": "code",
   "execution_count": 11,
   "id": "b2d236f5-dec3-4749-9b5c-f43c00a296d5",
   "metadata": {},
   "outputs": [
    {
     "data": {
      "text/plain": [
       "1학년  a반    85\n",
       "     a반    90\n",
       "     b반    78\n",
       "dtype: int64"
      ]
     },
     "execution_count": 11,
     "metadata": {},
     "output_type": "execute_result"
    }
   ],
   "source": [
    "# 시리즈에서 1학년만 꺼내기\n",
    "s['1학년']\n",
    "# 1학년 a반만 조회\n",
    "s.index\n",
    "s.loc[ ('1학년', 'a반') ]\n",
    "# 1학년의 a반과 b반 모두 가지고 오기(여러개 선택)\n",
    "s.loc[ ('1학년', ['a반', 'b반'] ) ]\n"
   ]
  },
  {
   "cell_type": "markdown",
   "id": "51de848f-75e9-49f1-8293-c1948cc9ef0a",
   "metadata": {},
   "source": [
    "데이터 프레임의 멀티 인덱스"
   ]
  },
  {
   "cell_type": "code",
   "execution_count": 15,
   "id": "d9e440da-6073-42c7-a6af-9c023c835d04",
   "metadata": {},
   "outputs": [
    {
     "data": {
      "text/html": [
       "<div>\n",
       "<style scoped>\n",
       "    .dataframe tbody tr th:only-of-type {\n",
       "        vertical-align: middle;\n",
       "    }\n",
       "\n",
       "    .dataframe tbody tr th {\n",
       "        vertical-align: top;\n",
       "    }\n",
       "\n",
       "    .dataframe thead th {\n",
       "        text-align: right;\n",
       "    }\n",
       "</style>\n",
       "<table border=\"1\" class=\"dataframe\">\n",
       "  <thead>\n",
       "    <tr style=\"text-align: right;\">\n",
       "      <th></th>\n",
       "      <th></th>\n",
       "      <th>제품1</th>\n",
       "      <th>제품2</th>\n",
       "    </tr>\n",
       "  </thead>\n",
       "  <tbody>\n",
       "    <tr>\n",
       "      <th rowspan=\"2\" valign=\"top\">2020년</th>\n",
       "      <th>구월점</th>\n",
       "      <td>50</td>\n",
       "      <td>60</td>\n",
       "    </tr>\n",
       "    <tr>\n",
       "      <th>부평점</th>\n",
       "      <td>70</td>\n",
       "      <td>80</td>\n",
       "    </tr>\n",
       "    <tr>\n",
       "      <th rowspan=\"2\" valign=\"top\">2021년</th>\n",
       "      <th>구월점</th>\n",
       "      <td>100</td>\n",
       "      <td>110</td>\n",
       "    </tr>\n",
       "    <tr>\n",
       "      <th>부평점</th>\n",
       "      <td>120</td>\n",
       "      <td>130</td>\n",
       "    </tr>\n",
       "  </tbody>\n",
       "</table>\n",
       "</div>"
      ],
      "text/plain": [
       "           제품1  제품2\n",
       "2020년 구월점   50   60\n",
       "      부평점   70   80\n",
       "2021년 구월점  100  110\n",
       "      부평점  120  130"
      ]
     },
     "execution_count": 15,
     "metadata": {},
     "output_type": "execute_result"
    }
   ],
   "source": [
    "# Series: 한줄짜리 데이터\n",
    "# DataFrame: 표 모양의 데이터\n",
    "\n",
    "# 상품 판매 데이터를 데이터프레임으로 생성\n",
    "# pd.DataFrame(2차원배열데이터)\n",
    "# pd.DataFrame(데이터,[인덱스],[컬럼])\n",
    "# 데이터: 판매데이터\n",
    "# 행 인덱스: 멀티(연도-지점)\n",
    "# 열 컬럼:\n",
    "df = pd.DataFrame([ [50,60],[70,80],[100,110],[120,130] ],\n",
    "                 index=[ ['2020년','2020년','2021년','2021년'], \n",
    "                         ['구월점','부평점','구월점','부평점' ] ] ,\n",
    "                 columns=['제품1','제품2']\n",
    "                 )\n",
    "df"
   ]
  },
  {
   "cell_type": "code",
   "execution_count": 20,
   "id": "aa199811-a541-4d37-9413-4ea313886880",
   "metadata": {},
   "outputs": [
    {
     "name": "stdout",
     "output_type": "stream",
     "text": [
      "MultiIndex([('2020년', '구월점'),\n",
      "            ('2020년', '부평점'),\n",
      "            ('2021년', '구월점'),\n",
      "            ('2021년', '부평점')],\n",
      "           )\n",
      "Index(['제품1', '제품2'], dtype='object')\n"
     ]
    },
    {
     "data": {
      "text/html": [
       "<div>\n",
       "<style scoped>\n",
       "    .dataframe tbody tr th:only-of-type {\n",
       "        vertical-align: middle;\n",
       "    }\n",
       "\n",
       "    .dataframe tbody tr th {\n",
       "        vertical-align: top;\n",
       "    }\n",
       "\n",
       "    .dataframe thead th {\n",
       "        text-align: right;\n",
       "    }\n",
       "</style>\n",
       "<table border=\"1\" class=\"dataframe\">\n",
       "  <thead>\n",
       "    <tr style=\"text-align: right;\">\n",
       "      <th></th>\n",
       "      <th>제품1</th>\n",
       "      <th>제품2</th>\n",
       "    </tr>\n",
       "  </thead>\n",
       "  <tbody>\n",
       "    <tr>\n",
       "      <th>구월점</th>\n",
       "      <td>50</td>\n",
       "      <td>60</td>\n",
       "    </tr>\n",
       "    <tr>\n",
       "      <th>부평점</th>\n",
       "      <td>70</td>\n",
       "      <td>80</td>\n",
       "    </tr>\n",
       "  </tbody>\n",
       "</table>\n",
       "</div>"
      ],
      "text/plain": [
       "     제품1  제품2\n",
       "구월점   50   60\n",
       "부평점   70   80"
      ]
     },
     "execution_count": 20,
     "metadata": {},
     "output_type": "execute_result"
    }
   ],
   "source": [
    "# 2020년도 전체 판매량 조회\n",
    "print(df.index) #행\n",
    "print(df.columns) #열\n",
    "df.loc['2020년']"
   ]
  },
  {
   "cell_type": "code",
   "execution_count": 22,
   "id": "b72d642b-bab8-4af0-846b-0e89f2dc8378",
   "metadata": {},
   "outputs": [
    {
     "data": {
      "text/plain": [
       "np.int64(130)"
      ]
     },
     "execution_count": 22,
     "metadata": {},
     "output_type": "execute_result"
    }
   ],
   "source": [
    "# 2020년 구월점 판매량만 조회\n",
    "df.loc['2020년', '구월점']\n",
    "# 2021년 부평점의 제품2 판매량만 조회\n",
    "df.loc[ ('2021년', '부평점'), '제품2' ]"
   ]
  },
  {
   "cell_type": "markdown",
   "id": "a766d0c8-e4c8-4136-a4a4-9ecb95cea5d0",
   "metadata": {},
   "source": [
    "#### 7.2 데이터 합치기"
   ]
  },
  {
   "cell_type": "markdown",
   "id": "18f41cbd-6e01-4a4b-bea4-ddf7cbe2df6f",
   "metadata": {},
   "source": [
    "merge\n",
    "- 두개의 데이터프레임을 하나로 합치는 함수\n",
    "- 기준컬럼이 맞으면 연결"
   ]
  },
  {
   "cell_type": "code",
   "execution_count": 27,
   "id": "b700975f-c5d8-4969-b749-df86b6e55840",
   "metadata": {},
   "outputs": [
    {
     "data": {
      "text/html": [
       "<div>\n",
       "<style scoped>\n",
       "    .dataframe tbody tr th:only-of-type {\n",
       "        vertical-align: middle;\n",
       "    }\n",
       "\n",
       "    .dataframe tbody tr th {\n",
       "        vertical-align: top;\n",
       "    }\n",
       "\n",
       "    .dataframe thead th {\n",
       "        text-align: right;\n",
       "    }\n",
       "</style>\n",
       "<table border=\"1\" class=\"dataframe\">\n",
       "  <thead>\n",
       "    <tr style=\"text-align: right;\">\n",
       "      <th></th>\n",
       "      <th>학번</th>\n",
       "      <th>점수</th>\n",
       "    </tr>\n",
       "  </thead>\n",
       "  <tbody>\n",
       "    <tr>\n",
       "      <th>0</th>\n",
       "      <td>1</td>\n",
       "      <td>90</td>\n",
       "    </tr>\n",
       "    <tr>\n",
       "      <th>1</th>\n",
       "      <td>2</td>\n",
       "      <td>85</td>\n",
       "    </tr>\n",
       "    <tr>\n",
       "      <th>2</th>\n",
       "      <td>4</td>\n",
       "      <td>70</td>\n",
       "    </tr>\n",
       "  </tbody>\n",
       "</table>\n",
       "</div>"
      ],
      "text/plain": [
       "   학번  점수\n",
       "0   1  90\n",
       "1   2  85\n",
       "2   4  70"
      ]
     },
     "execution_count": 27,
     "metadata": {},
     "output_type": "execute_result"
    }
   ],
   "source": [
    "# 학생 데이터를 담아서 데이터프레임 생성\n",
    "# pd.DataFrame(2차원배열)\n",
    "# pd.DataFrame(dic)\n",
    "df1 = pd.DataFrame( { '학번':[1,2,3], '이름':['철수','영희','민수'] } )\n",
    "# 시험 점수 데이터를 담아서 데이터프레임 생성\n",
    "df2 = pd.DataFrame({'학번':[1,2,4], '점수':[90,85,70]})"
   ]
  },
  {
   "cell_type": "markdown",
   "id": "c912f5e1-2169-468d-80a8-fe1e29d5d73d",
   "metadata": {},
   "source": [
    "merge의 종류\n",
    "- inner join: 양쪽 데이터에서 공통된 부분만 가지고옴\n",
    "- left join: 왼쪽 데이터는 모두 가지고 오고, 오른쪽은 겹치는 부분만\n",
    "- right join: 온른쪽 데이터는 모두 가지고 오고, 왼쪽은 겹치는 부분만\n",
    "- outer join: 양쪽 데이터를 모두 가지고옴"
   ]
  },
  {
   "cell_type": "code",
   "execution_count": 32,
   "id": "2b4e9bd5-954c-4ff4-9bab-c8629b09ff21",
   "metadata": {},
   "outputs": [
    {
     "data": {
      "text/html": [
       "<div>\n",
       "<style scoped>\n",
       "    .dataframe tbody tr th:only-of-type {\n",
       "        vertical-align: middle;\n",
       "    }\n",
       "\n",
       "    .dataframe tbody tr th {\n",
       "        vertical-align: top;\n",
       "    }\n",
       "\n",
       "    .dataframe thead th {\n",
       "        text-align: right;\n",
       "    }\n",
       "</style>\n",
       "<table border=\"1\" class=\"dataframe\">\n",
       "  <thead>\n",
       "    <tr style=\"text-align: right;\">\n",
       "      <th></th>\n",
       "      <th>학번</th>\n",
       "      <th>이름</th>\n",
       "      <th>점수</th>\n",
       "    </tr>\n",
       "  </thead>\n",
       "  <tbody>\n",
       "    <tr>\n",
       "      <th>0</th>\n",
       "      <td>1</td>\n",
       "      <td>철수</td>\n",
       "      <td>90</td>\n",
       "    </tr>\n",
       "    <tr>\n",
       "      <th>1</th>\n",
       "      <td>2</td>\n",
       "      <td>영희</td>\n",
       "      <td>85</td>\n",
       "    </tr>\n",
       "  </tbody>\n",
       "</table>\n",
       "</div>"
      ],
      "text/plain": [
       "   학번  이름  점수\n",
       "0   1  철수  90\n",
       "1   2  영희  85"
      ]
     },
     "execution_count": 32,
     "metadata": {},
     "output_type": "execute_result"
    }
   ],
   "source": [
    "# 학생정보와 시험점수 합치기\n",
    "# pd.merge(데이터1, 데이터2, 공통컬럼)\n",
    "\n",
    "# inner join\n",
    "pd.merge(df1, df2, on='학번')"
   ]
  },
  {
   "cell_type": "code",
   "execution_count": 33,
   "id": "7abba295-1216-4256-b92b-088fe3c5390a",
   "metadata": {},
   "outputs": [
    {
     "data": {
      "text/html": [
       "<div>\n",
       "<style scoped>\n",
       "    .dataframe tbody tr th:only-of-type {\n",
       "        vertical-align: middle;\n",
       "    }\n",
       "\n",
       "    .dataframe tbody tr th {\n",
       "        vertical-align: top;\n",
       "    }\n",
       "\n",
       "    .dataframe thead th {\n",
       "        text-align: right;\n",
       "    }\n",
       "</style>\n",
       "<table border=\"1\" class=\"dataframe\">\n",
       "  <thead>\n",
       "    <tr style=\"text-align: right;\">\n",
       "      <th></th>\n",
       "      <th>학번</th>\n",
       "      <th>이름</th>\n",
       "      <th>점수</th>\n",
       "    </tr>\n",
       "  </thead>\n",
       "  <tbody>\n",
       "    <tr>\n",
       "      <th>0</th>\n",
       "      <td>1</td>\n",
       "      <td>철수</td>\n",
       "      <td>90.0</td>\n",
       "    </tr>\n",
       "    <tr>\n",
       "      <th>1</th>\n",
       "      <td>2</td>\n",
       "      <td>영희</td>\n",
       "      <td>85.0</td>\n",
       "    </tr>\n",
       "    <tr>\n",
       "      <th>2</th>\n",
       "      <td>3</td>\n",
       "      <td>민수</td>\n",
       "      <td>NaN</td>\n",
       "    </tr>\n",
       "  </tbody>\n",
       "</table>\n",
       "</div>"
      ],
      "text/plain": [
       "   학번  이름    점수\n",
       "0   1  철수  90.0\n",
       "1   2  영희  85.0\n",
       "2   3  민수   NaN"
      ]
     },
     "execution_count": 33,
     "metadata": {},
     "output_type": "execute_result"
    }
   ],
   "source": [
    "# left join\n",
    "# pd.merge(데이터1, 데이터2, 공통컬럼, [join 방식])\n",
    "pd.merge(df1, df2, on='학번', how='left')"
   ]
  },
  {
   "cell_type": "code",
   "execution_count": 34,
   "id": "76727c4e-d60c-456b-a171-23a119e934db",
   "metadata": {},
   "outputs": [
    {
     "data": {
      "text/html": [
       "<div>\n",
       "<style scoped>\n",
       "    .dataframe tbody tr th:only-of-type {\n",
       "        vertical-align: middle;\n",
       "    }\n",
       "\n",
       "    .dataframe tbody tr th {\n",
       "        vertical-align: top;\n",
       "    }\n",
       "\n",
       "    .dataframe thead th {\n",
       "        text-align: right;\n",
       "    }\n",
       "</style>\n",
       "<table border=\"1\" class=\"dataframe\">\n",
       "  <thead>\n",
       "    <tr style=\"text-align: right;\">\n",
       "      <th></th>\n",
       "      <th>학번</th>\n",
       "      <th>이름</th>\n",
       "      <th>점수</th>\n",
       "    </tr>\n",
       "  </thead>\n",
       "  <tbody>\n",
       "    <tr>\n",
       "      <th>0</th>\n",
       "      <td>1</td>\n",
       "      <td>철수</td>\n",
       "      <td>90</td>\n",
       "    </tr>\n",
       "    <tr>\n",
       "      <th>1</th>\n",
       "      <td>2</td>\n",
       "      <td>영희</td>\n",
       "      <td>85</td>\n",
       "    </tr>\n",
       "    <tr>\n",
       "      <th>2</th>\n",
       "      <td>4</td>\n",
       "      <td>NaN</td>\n",
       "      <td>70</td>\n",
       "    </tr>\n",
       "  </tbody>\n",
       "</table>\n",
       "</div>"
      ],
      "text/plain": [
       "   학번   이름  점수\n",
       "0   1   철수  90\n",
       "1   2   영희  85\n",
       "2   4  NaN  70"
      ]
     },
     "execution_count": 34,
     "metadata": {},
     "output_type": "execute_result"
    }
   ],
   "source": [
    "# right join\n",
    "# pd.merge(데이터1, 데이터2, 공통컬럼, [join 방식])\n",
    "pd.merge(df1, df2, on='학번', how='right')"
   ]
  },
  {
   "cell_type": "code",
   "execution_count": 35,
   "id": "8f16ccf8-ecfe-41bc-b4dd-ee927b14247d",
   "metadata": {},
   "outputs": [
    {
     "data": {
      "text/html": [
       "<div>\n",
       "<style scoped>\n",
       "    .dataframe tbody tr th:only-of-type {\n",
       "        vertical-align: middle;\n",
       "    }\n",
       "\n",
       "    .dataframe tbody tr th {\n",
       "        vertical-align: top;\n",
       "    }\n",
       "\n",
       "    .dataframe thead th {\n",
       "        text-align: right;\n",
       "    }\n",
       "</style>\n",
       "<table border=\"1\" class=\"dataframe\">\n",
       "  <thead>\n",
       "    <tr style=\"text-align: right;\">\n",
       "      <th></th>\n",
       "      <th>학번</th>\n",
       "      <th>이름</th>\n",
       "      <th>점수</th>\n",
       "    </tr>\n",
       "  </thead>\n",
       "  <tbody>\n",
       "    <tr>\n",
       "      <th>0</th>\n",
       "      <td>1</td>\n",
       "      <td>철수</td>\n",
       "      <td>90.0</td>\n",
       "    </tr>\n",
       "    <tr>\n",
       "      <th>1</th>\n",
       "      <td>2</td>\n",
       "      <td>영희</td>\n",
       "      <td>85.0</td>\n",
       "    </tr>\n",
       "    <tr>\n",
       "      <th>2</th>\n",
       "      <td>3</td>\n",
       "      <td>민수</td>\n",
       "      <td>NaN</td>\n",
       "    </tr>\n",
       "    <tr>\n",
       "      <th>3</th>\n",
       "      <td>4</td>\n",
       "      <td>NaN</td>\n",
       "      <td>70.0</td>\n",
       "    </tr>\n",
       "  </tbody>\n",
       "</table>\n",
       "</div>"
      ],
      "text/plain": [
       "   학번   이름    점수\n",
       "0   1   철수  90.0\n",
       "1   2   영희  85.0\n",
       "2   3   민수   NaN\n",
       "3   4  NaN  70.0"
      ]
     },
     "execution_count": 35,
     "metadata": {},
     "output_type": "execute_result"
    }
   ],
   "source": [
    "# outer join\n",
    "pd.merge(df1, df2, on='학번', how='outer')"
   ]
  },
  {
   "cell_type": "code",
   "execution_count": null,
   "id": "77916829-217a-4458-9b7f-97434cd055a6",
   "metadata": {},
   "outputs": [],
   "source": []
  },
  {
   "cell_type": "code",
   "execution_count": null,
   "id": "dcf044b8-472f-49e5-9867-28bff4b500d3",
   "metadata": {},
   "outputs": [],
   "source": []
  },
  {
   "cell_type": "code",
   "execution_count": null,
   "id": "450f4cec-1fcf-43aa-a69a-5d4f90e7b817",
   "metadata": {},
   "outputs": [],
   "source": []
  },
  {
   "cell_type": "code",
   "execution_count": null,
   "id": "22b3db1a-c3fa-4822-a1bd-91b093f2d15d",
   "metadata": {},
   "outputs": [],
   "source": []
  },
  {
   "cell_type": "code",
   "execution_count": null,
   "id": "c4d23eda-80d7-4853-8c00-da0ba93c0364",
   "metadata": {},
   "outputs": [],
   "source": []
  },
  {
   "cell_type": "code",
   "execution_count": null,
   "id": "cb12320e-c6ff-4112-a363-edf0bfef10a1",
   "metadata": {},
   "outputs": [],
   "source": []
  },
  {
   "cell_type": "code",
   "execution_count": null,
   "id": "6930e38a-b9a9-4de8-9435-85dc79ee84a6",
   "metadata": {},
   "outputs": [],
   "source": []
  },
  {
   "cell_type": "code",
   "execution_count": null,
   "id": "994b840d-bed8-486e-a6b0-bb305189d826",
   "metadata": {},
   "outputs": [],
   "source": []
  }
 ],
 "metadata": {
  "kernelspec": {
   "display_name": "Python 3 (ipykernel)",
   "language": "python",
   "name": "python3"
  },
  "language_info": {
   "codemirror_mode": {
    "name": "ipython",
    "version": 3
   },
   "file_extension": ".py",
   "mimetype": "text/x-python",
   "name": "python",
   "nbconvert_exporter": "python",
   "pygments_lexer": "ipython3",
   "version": "3.10.18"
  }
 },
 "nbformat": 4,
 "nbformat_minor": 5
}
