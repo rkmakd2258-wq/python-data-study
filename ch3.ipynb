{
 "cells": [
  {
   "cell_type": "markdown",
   "id": "78842fa3-54fd-4d03-bfae-86bdbac900c0",
   "metadata": {},
   "source": [
    "## 3. 넘파이\n",
    "markdown애서 줄바꿈을 할 때는 스페이스 두 번  \n",
    "markdown애서 제목을 표시할 때는 #기호를 사용함  \n",
    "#개수에 따라 글자크기가 달라짐  \n",
    "중요할수록 #개수가 적음"
   ]
  },
  {
   "cell_type": "markdown",
   "id": "f68c161b-3300-4803-b166-fea25c04e5b5",
   "metadata": {},
   "source": [
    "## 3. 넘파이\n",
    "넘파이란? 다차원배열과 수학 함수를 제공하는 모듈(라이브러리)  \n",
    "모듈이란? 필요한 기능을 미리 만들어두고 가져다 쓰는 것"
   ]
  },
  {
   "cell_type": "markdown",
   "id": "bcf44332-d543-444d-956e-52a084b80bd2",
   "metadata": {},
   "source": [
    "3.1 ndarry\n",
    "다차원 배열\n",
    "다차원 배열의 특징:\n",
    "1. 리스트와 비교했을 때 계산 속도가 빠름\n",
    "2. 리스트와 달리 모든 요소의 타입이 같음"
   ]
  },
  {
   "cell_type": "code",
   "execution_count": 6,
   "id": "a092a15c-0759-4bbe-b138-04f589636373",
   "metadata": {},
   "outputs": [],
   "source": [
    "# 먼저 numpy 모듈 가져오기\n",
    "# 외부에 있는 모듈 파일을 가지고 올 때는 import\n",
    "# 모듈의 이름이 길 때는 별칭 붇이기\n",
    "import numpy as np"
   ]
  },
  {
   "cell_type": "code",
   "execution_count": 8,
   "id": "2f014064-2218-440f-8a31-9f7ca6dab0ef",
   "metadata": {},
   "outputs": [
    {
     "data": {
      "text/plain": [
       "array(['a', 'b', 'c'], dtype='<U1')"
      ]
     },
     "execution_count": 8,
     "metadata": {},
     "output_type": "execute_result"
    }
   ],
   "source": [
    "# 넘파이 배열 만들기\n",
    "# 입력값:리스트\n",
    "#결과:넘파이 배열\n",
    "a = np.array([1,2,3])\n",
    "a\n",
    "b= np.array(['a','b','c'])\n",
    "b"
   ]
  },
  {
   "cell_type": "markdown",
   "id": "6bf86923-211d-4795-bb15-1d56480fcd89",
   "metadata": {},
   "source": [
    "## 2차원 배열\n"
   ]
  },
  {
   "cell_type": "code",
   "execution_count": 14,
   "id": "f554a566-f039-495c-9cd5-ad7a4440d427",
   "metadata": {},
   "outputs": [
    {
     "data": {
      "text/plain": [
       "array([[1, 2, 3],\n",
       "       [4, 5, 6],\n",
       "       [7, 8, 9]])"
      ]
     },
     "execution_count": 14,
     "metadata": {},
     "output_type": "execute_result"
    }
   ],
   "source": [
    "# 2차원 배열 생성\n",
    "# 2차원 배열은 1차원 배열의 묶음\n",
    "c = np.array([[1,2,3], [4,5,6]])\n",
    "c\n",
    "# 3행 3열 크기의 2차원 배열 새성\n",
    "d = np.array([[1,2,3], [4,5,6], [7,8,9]])\n",
    "d"
   ]
  },
  {
   "cell_type": "code",
   "execution_count": 20,
   "id": "1b2e9943-16d2-418f-b70e-5d15f0e67b82",
   "metadata": {},
   "outputs": [
    {
     "data": {
      "text/plain": [
       "array([ 1,  2,  3,  4,  5,  6,  7,  8,  9, 10])"
      ]
     },
     "execution_count": 20,
     "metadata": {},
     "output_type": "execute_result"
    }
   ],
   "source": [
    "# 주석 단축키 : ctrl + /\n",
    "# arrange : 숫자 여러개를 생성하는 함수\n",
    "# 연속된 숫자 10개를 생성\n",
    "a = np.arange(10)\n",
    "# 1부터 10까지 생성\n",
    "b = np.arange(1, 11)\n",
    "# 1부터 10까지 2씩 건너뛰면서 생성\n",
    "c = np.arange(1,11,2)\n",
    "b"
   ]
  },
  {
   "cell_type": "markdown",
   "id": "eed5eb5d-69ce-49b7-9c9a-403bae19497e",
   "metadata": {},
   "source": [
    "<연습문제>\n",
    "파이썬 리스트를 넘파이 배열로 변환하여 출력하세요"
   ]
  },
  {
   "cell_type": "code",
   "execution_count": 29,
   "id": "2e8fbfa5-8035-4e45-a3a4-9cd8db2172c9",
   "metadata": {},
   "outputs": [
    {
     "name": "stdout",
     "output_type": "stream",
     "text": [
      "[85 90 78 92 88]\n",
      "[160 165 170 175 180]\n",
      "[1200 1500 1800 2100]\n",
      "[20 22 19 25 30]\n"
     ]
    }
   ],
   "source": [
    "# scores = [85,90,78,92,88]\n",
    "arr_scores = np.array([85,90,78,92,88])\n",
    "print(arr_scores)\n",
    "\n",
    "# heights = [160,165,170,175,180]\n",
    "arr_heights = np.array([160,165,170,175,180])\n",
    "print(arr_heights)\n",
    "\n",
    "# prices = [1200,1500,1800,2100]\n",
    "arr_prices = np.array([1200,1500,1800,2100])\n",
    "print(arr_prices)\n",
    "\n",
    "# temps = [20,22,19,25,30]\n",
    "arr_temps = np.array([20,22,19,25,30])\n",
    "print(arr_temps)"
   ]
  },
  {
   "cell_type": "code",
   "execution_count": 37,
   "id": "035de9a2-4968-4702-a4a5-9005626774e9",
   "metadata": {},
   "outputs": [
    {
     "name": "stdout",
     "output_type": "stream",
     "text": [
      "[0 1 2 3 4]\n",
      "[0 1 2 3 4 5 6 7 8 9]\n",
      "[3 4 5 6 7]\n",
      "[-2 -1  0  1  2]\n"
     ]
    }
   ],
   "source": [
    "# 0부터 4까지 숫자를 원소로 가지는 배열을 생성하세요.\n",
    "# arange는 파이썬의 range 함수와 비슷\n",
    "# arange의 반환값:배열\n",
    "a = np.arange(5)\n",
    "print(a)\n",
    "\n",
    "# 0~9\n",
    "b = np.arange(10)\n",
    "print(b)\n",
    "\n",
    "# 3~7\n",
    "c = np.arange(3,8)\n",
    "print(c)\n",
    "\n",
    "# -2~2\n",
    "d = np.arange(-2, 3)\n",
    "print(d)"
   ]
  },
  {
   "cell_type": "code",
   "execution_count": null,
   "id": "7048ed8a-e336-4cf3-8588-337c4fb7b81c",
   "metadata": {},
   "outputs": [],
   "source": []
  }
 ],
 "metadata": {
  "kernelspec": {
   "display_name": "Python 3 (ipykernel)",
   "language": "python",
   "name": "python3"
  },
  "language_info": {
   "codemirror_mode": {
    "name": "ipython",
    "version": 3
   },
   "file_extension": ".py",
   "mimetype": "text/x-python",
   "name": "python",
   "nbconvert_exporter": "python",
   "pygments_lexer": "ipython3",
   "version": "3.10.18"
  }
 },
 "nbformat": 4,
 "nbformat_minor": 5
}
